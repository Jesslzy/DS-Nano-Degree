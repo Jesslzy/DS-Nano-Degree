{
 "cells": [
  {
   "cell_type": "markdown",
   "id": "18d051a3-c00f-4541-9195-0ba2a304bb98",
   "metadata": {},
   "source": [
    "# Blog Post Project with Boston Airbnb Data"
   ]
  },
  {
   "cell_type": "markdown",
   "id": "5adc2f28-79f0-46c0-b924-28a72e500e7f",
   "metadata": {},
   "source": [
    "# Business questions to answer"
   ]
  },
  {
   "cell_type": "markdown",
   "id": "530597e2-7726-4c9e-9e8c-c2832e5ef923",
   "metadata": {},
   "source": [
    "### The business questions this analysis aims at answering are:\n",
    "    1. How long time does it take for most hosts to response?\n",
    "    2. What are the top 3 factors that determines your listing rating?\n",
    "    3. How does the sentiment landscape of our customer reviews looks like?"
   ]
  },
  {
   "cell_type": "markdown",
   "id": "07126bfb-39b8-417f-ab72-38b52fbc5563",
   "metadata": {},
   "source": [
    "## Imports"
   ]
  },
  {
   "cell_type": "code",
   "execution_count": 1,
   "id": "3abfbb44-05e0-4cce-88ea-67b09b422258",
   "metadata": {},
   "outputs": [],
   "source": [
    "import pandas as pd\n",
    "import numpy as np\n",
    "\n",
    "import seaborn as sns\n",
    "import matplotlib.pyplot as plt\n",
    "\n",
    "import nltk\n",
    "from nltk.corpus import stopwords\n",
    "from nltk.tokenize import word_tokenize\n",
    "from nltk.stem import WordNetLemmatizer\n",
    "from nltk.corpus import wordnet\n",
    "from nltk.sentiment.vader import SentimentIntensityAnalyzer\n",
    "#Following lines need to run if required package not already downloaded. Commented out to avoid repeat downloading\n",
    "#nltk.download('punkt')\n",
    "#nltk.download('wordnet')\n",
    "#nltk.download('words')\n",
    "#nltk.download('omw-1.4')\n",
    "#nltk.download('averaged_perceptron_tagger')\n",
    "#nltk.download('vader_lexicon')\n",
    "\n",
    "import re\n",
    "\n",
    "import statsmodels.api as sm\n",
    "from sklearn.model_selection import train_test_split\n",
    "from sklearn.linear_model import LinearRegression\n",
    "from sklearn.metrics import r2_score, mean_squared_error\n",
    "\n",
    "\n",
    "%matplotlib inline"
   ]
  },
  {
   "cell_type": "markdown",
   "id": "b9a85361-0e0d-44b3-ac35-b6fd29ed9f7d",
   "metadata": {},
   "source": [
    "## Load the data"
   ]
  },
  {
   "cell_type": "code",
   "execution_count": 69,
   "id": "c8568760-e392-47bc-b814-1944e99f7d4f",
   "metadata": {},
   "outputs": [
    {
     "data": {
      "text/html": [
       "<div>\n",
       "<style scoped>\n",
       "    .dataframe tbody tr th:only-of-type {\n",
       "        vertical-align: middle;\n",
       "    }\n",
       "\n",
       "    .dataframe tbody tr th {\n",
       "        vertical-align: top;\n",
       "    }\n",
       "\n",
       "    .dataframe thead th {\n",
       "        text-align: right;\n",
       "    }\n",
       "</style>\n",
       "<table border=\"1\" class=\"dataframe\">\n",
       "  <thead>\n",
       "    <tr style=\"text-align: right;\">\n",
       "      <th></th>\n",
       "      <th>listing_id</th>\n",
       "      <th>id</th>\n",
       "      <th>date</th>\n",
       "      <th>reviewer_id</th>\n",
       "      <th>reviewer_name</th>\n",
       "      <th>comments</th>\n",
       "    </tr>\n",
       "  </thead>\n",
       "  <tbody>\n",
       "    <tr>\n",
       "      <th>0</th>\n",
       "      <td>1178162</td>\n",
       "      <td>4724140</td>\n",
       "      <td>2013-05-21</td>\n",
       "      <td>4298113</td>\n",
       "      <td>Olivier</td>\n",
       "      <td>My stay at islam's place was really cool! Good...</td>\n",
       "    </tr>\n",
       "    <tr>\n",
       "      <th>1</th>\n",
       "      <td>1178162</td>\n",
       "      <td>4869189</td>\n",
       "      <td>2013-05-29</td>\n",
       "      <td>6452964</td>\n",
       "      <td>Charlotte</td>\n",
       "      <td>Great location for both airport and city - gre...</td>\n",
       "    </tr>\n",
       "    <tr>\n",
       "      <th>2</th>\n",
       "      <td>1178162</td>\n",
       "      <td>5003196</td>\n",
       "      <td>2013-06-06</td>\n",
       "      <td>6449554</td>\n",
       "      <td>Sebastian</td>\n",
       "      <td>We really enjoyed our stay at Islams house. Fr...</td>\n",
       "    </tr>\n",
       "    <tr>\n",
       "      <th>3</th>\n",
       "      <td>1178162</td>\n",
       "      <td>5150351</td>\n",
       "      <td>2013-06-15</td>\n",
       "      <td>2215611</td>\n",
       "      <td>Marine</td>\n",
       "      <td>The room was nice and clean and so were the co...</td>\n",
       "    </tr>\n",
       "    <tr>\n",
       "      <th>4</th>\n",
       "      <td>1178162</td>\n",
       "      <td>5171140</td>\n",
       "      <td>2013-06-16</td>\n",
       "      <td>6848427</td>\n",
       "      <td>Andrew</td>\n",
       "      <td>Great location. Just 5 mins walk from the Airp...</td>\n",
       "    </tr>\n",
       "  </tbody>\n",
       "</table>\n",
       "</div>"
      ],
      "text/plain": [
       "   listing_id       id        date  reviewer_id reviewer_name  \\\n",
       "0     1178162  4724140  2013-05-21      4298113       Olivier   \n",
       "1     1178162  4869189  2013-05-29      6452964     Charlotte   \n",
       "2     1178162  5003196  2013-06-06      6449554     Sebastian   \n",
       "3     1178162  5150351  2013-06-15      2215611        Marine   \n",
       "4     1178162  5171140  2013-06-16      6848427        Andrew   \n",
       "\n",
       "                                            comments  \n",
       "0  My stay at islam's place was really cool! Good...  \n",
       "1  Great location for both airport and city - gre...  \n",
       "2  We really enjoyed our stay at Islams house. Fr...  \n",
       "3  The room was nice and clean and so were the co...  \n",
       "4  Great location. Just 5 mins walk from the Airp...  "
      ]
     },
     "execution_count": 69,
     "metadata": {},
     "output_type": "execute_result"
    }
   ],
   "source": [
    "bos_rev = pd.read_csv('../Data/reviews.csv')\n",
    "bos_rev.head()"
   ]
  },
  {
   "cell_type": "code",
   "execution_count": 44,
   "id": "f666b75d-0744-4d86-bd1c-1cdb3ec4d66f",
   "metadata": {},
   "outputs": [
    {
     "name": "stdout",
     "output_type": "stream",
     "text": [
      "<class 'pandas.core.frame.DataFrame'>\n",
      "RangeIndex: 68275 entries, 0 to 68274\n",
      "Data columns (total 6 columns):\n",
      " #   Column         Non-Null Count  Dtype \n",
      "---  ------         --------------  ----- \n",
      " 0   listing_id     68275 non-null  int64 \n",
      " 1   id             68275 non-null  int64 \n",
      " 2   date           68275 non-null  object\n",
      " 3   reviewer_id    68275 non-null  int64 \n",
      " 4   reviewer_name  68275 non-null  object\n",
      " 5   comments       68222 non-null  object\n",
      "dtypes: int64(3), object(3)\n",
      "memory usage: 3.1+ MB\n"
     ]
    }
   ],
   "source": [
    "bos_rev.info()"
   ]
  },
  {
   "cell_type": "code",
   "execution_count": 14,
   "id": "9032a1e0-a946-4399-88f2-365362da5ded",
   "metadata": {},
   "outputs": [
    {
     "data": {
      "text/plain": [
       "(68275, 6)"
      ]
     },
     "execution_count": 14,
     "metadata": {},
     "output_type": "execute_result"
    }
   ],
   "source": [
    "bos_rev.shape"
   ]
  },
  {
   "cell_type": "code",
   "execution_count": 70,
   "id": "cabafcf6-61dd-42be-bcdc-462a4c5621ce",
   "metadata": {
    "tags": []
   },
   "outputs": [
    {
     "data": {
      "text/html": [
       "<div>\n",
       "<style scoped>\n",
       "    .dataframe tbody tr th:only-of-type {\n",
       "        vertical-align: middle;\n",
       "    }\n",
       "\n",
       "    .dataframe tbody tr th {\n",
       "        vertical-align: top;\n",
       "    }\n",
       "\n",
       "    .dataframe thead th {\n",
       "        text-align: right;\n",
       "    }\n",
       "</style>\n",
       "<table border=\"1\" class=\"dataframe\">\n",
       "  <thead>\n",
       "    <tr style=\"text-align: right;\">\n",
       "      <th></th>\n",
       "      <th>id</th>\n",
       "      <th>listing_url</th>\n",
       "      <th>scrape_id</th>\n",
       "      <th>last_scraped</th>\n",
       "      <th>name</th>\n",
       "      <th>summary</th>\n",
       "      <th>space</th>\n",
       "      <th>description</th>\n",
       "      <th>experiences_offered</th>\n",
       "      <th>neighborhood_overview</th>\n",
       "      <th>...</th>\n",
       "      <th>review_scores_value</th>\n",
       "      <th>requires_license</th>\n",
       "      <th>license</th>\n",
       "      <th>jurisdiction_names</th>\n",
       "      <th>instant_bookable</th>\n",
       "      <th>cancellation_policy</th>\n",
       "      <th>require_guest_profile_picture</th>\n",
       "      <th>require_guest_phone_verification</th>\n",
       "      <th>calculated_host_listings_count</th>\n",
       "      <th>reviews_per_month</th>\n",
       "    </tr>\n",
       "  </thead>\n",
       "  <tbody>\n",
       "    <tr>\n",
       "      <th>0</th>\n",
       "      <td>12147973</td>\n",
       "      <td>https://www.airbnb.com/rooms/12147973</td>\n",
       "      <td>20160906204935</td>\n",
       "      <td>2016-09-07</td>\n",
       "      <td>Sunny Bungalow in the City</td>\n",
       "      <td>Cozy, sunny, family home.  Master bedroom high...</td>\n",
       "      <td>The house has an open and cozy feel at the sam...</td>\n",
       "      <td>Cozy, sunny, family home.  Master bedroom high...</td>\n",
       "      <td>none</td>\n",
       "      <td>Roslindale is quiet, convenient and friendly. ...</td>\n",
       "      <td>...</td>\n",
       "      <td>NaN</td>\n",
       "      <td>f</td>\n",
       "      <td>NaN</td>\n",
       "      <td>NaN</td>\n",
       "      <td>f</td>\n",
       "      <td>moderate</td>\n",
       "      <td>f</td>\n",
       "      <td>f</td>\n",
       "      <td>1</td>\n",
       "      <td>NaN</td>\n",
       "    </tr>\n",
       "    <tr>\n",
       "      <th>1</th>\n",
       "      <td>3075044</td>\n",
       "      <td>https://www.airbnb.com/rooms/3075044</td>\n",
       "      <td>20160906204935</td>\n",
       "      <td>2016-09-07</td>\n",
       "      <td>Charming room in pet friendly apt</td>\n",
       "      <td>Charming and quiet room in a second floor 1910...</td>\n",
       "      <td>Small but cozy and quite room with a full size...</td>\n",
       "      <td>Charming and quiet room in a second floor 1910...</td>\n",
       "      <td>none</td>\n",
       "      <td>The room is in Roslindale, a diverse and prima...</td>\n",
       "      <td>...</td>\n",
       "      <td>9.0</td>\n",
       "      <td>f</td>\n",
       "      <td>NaN</td>\n",
       "      <td>NaN</td>\n",
       "      <td>t</td>\n",
       "      <td>moderate</td>\n",
       "      <td>f</td>\n",
       "      <td>f</td>\n",
       "      <td>1</td>\n",
       "      <td>1.30</td>\n",
       "    </tr>\n",
       "    <tr>\n",
       "      <th>2</th>\n",
       "      <td>6976</td>\n",
       "      <td>https://www.airbnb.com/rooms/6976</td>\n",
       "      <td>20160906204935</td>\n",
       "      <td>2016-09-07</td>\n",
       "      <td>Mexican Folk Art Haven in Boston</td>\n",
       "      <td>Come stay with a friendly, middle-aged guy in ...</td>\n",
       "      <td>Come stay with a friendly, middle-aged guy in ...</td>\n",
       "      <td>Come stay with a friendly, middle-aged guy in ...</td>\n",
       "      <td>none</td>\n",
       "      <td>The LOCATION: Roslindale is a safe and diverse...</td>\n",
       "      <td>...</td>\n",
       "      <td>10.0</td>\n",
       "      <td>f</td>\n",
       "      <td>NaN</td>\n",
       "      <td>NaN</td>\n",
       "      <td>f</td>\n",
       "      <td>moderate</td>\n",
       "      <td>t</td>\n",
       "      <td>f</td>\n",
       "      <td>1</td>\n",
       "      <td>0.47</td>\n",
       "    </tr>\n",
       "    <tr>\n",
       "      <th>3</th>\n",
       "      <td>1436513</td>\n",
       "      <td>https://www.airbnb.com/rooms/1436513</td>\n",
       "      <td>20160906204935</td>\n",
       "      <td>2016-09-07</td>\n",
       "      <td>Spacious Sunny Bedroom Suite in Historic Home</td>\n",
       "      <td>Come experience the comforts of home away from...</td>\n",
       "      <td>Most places you find in Boston are small howev...</td>\n",
       "      <td>Come experience the comforts of home away from...</td>\n",
       "      <td>none</td>\n",
       "      <td>Roslindale is a lovely little neighborhood loc...</td>\n",
       "      <td>...</td>\n",
       "      <td>10.0</td>\n",
       "      <td>f</td>\n",
       "      <td>NaN</td>\n",
       "      <td>NaN</td>\n",
       "      <td>f</td>\n",
       "      <td>moderate</td>\n",
       "      <td>f</td>\n",
       "      <td>f</td>\n",
       "      <td>1</td>\n",
       "      <td>1.00</td>\n",
       "    </tr>\n",
       "    <tr>\n",
       "      <th>4</th>\n",
       "      <td>7651065</td>\n",
       "      <td>https://www.airbnb.com/rooms/7651065</td>\n",
       "      <td>20160906204935</td>\n",
       "      <td>2016-09-07</td>\n",
       "      <td>Come Home to Boston</td>\n",
       "      <td>My comfy, clean and relaxing home is one block...</td>\n",
       "      <td>Clean, attractive, private room, one block fro...</td>\n",
       "      <td>My comfy, clean and relaxing home is one block...</td>\n",
       "      <td>none</td>\n",
       "      <td>I love the proximity to downtown, the neighbor...</td>\n",
       "      <td>...</td>\n",
       "      <td>10.0</td>\n",
       "      <td>f</td>\n",
       "      <td>NaN</td>\n",
       "      <td>NaN</td>\n",
       "      <td>f</td>\n",
       "      <td>flexible</td>\n",
       "      <td>f</td>\n",
       "      <td>f</td>\n",
       "      <td>1</td>\n",
       "      <td>2.25</td>\n",
       "    </tr>\n",
       "  </tbody>\n",
       "</table>\n",
       "<p>5 rows × 95 columns</p>\n",
       "</div>"
      ],
      "text/plain": [
       "         id                            listing_url       scrape_id  \\\n",
       "0  12147973  https://www.airbnb.com/rooms/12147973  20160906204935   \n",
       "1   3075044   https://www.airbnb.com/rooms/3075044  20160906204935   \n",
       "2      6976      https://www.airbnb.com/rooms/6976  20160906204935   \n",
       "3   1436513   https://www.airbnb.com/rooms/1436513  20160906204935   \n",
       "4   7651065   https://www.airbnb.com/rooms/7651065  20160906204935   \n",
       "\n",
       "  last_scraped                                           name  \\\n",
       "0   2016-09-07                     Sunny Bungalow in the City   \n",
       "1   2016-09-07              Charming room in pet friendly apt   \n",
       "2   2016-09-07               Mexican Folk Art Haven in Boston   \n",
       "3   2016-09-07  Spacious Sunny Bedroom Suite in Historic Home   \n",
       "4   2016-09-07                            Come Home to Boston   \n",
       "\n",
       "                                             summary  \\\n",
       "0  Cozy, sunny, family home.  Master bedroom high...   \n",
       "1  Charming and quiet room in a second floor 1910...   \n",
       "2  Come stay with a friendly, middle-aged guy in ...   \n",
       "3  Come experience the comforts of home away from...   \n",
       "4  My comfy, clean and relaxing home is one block...   \n",
       "\n",
       "                                               space  \\\n",
       "0  The house has an open and cozy feel at the sam...   \n",
       "1  Small but cozy and quite room with a full size...   \n",
       "2  Come stay with a friendly, middle-aged guy in ...   \n",
       "3  Most places you find in Boston are small howev...   \n",
       "4  Clean, attractive, private room, one block fro...   \n",
       "\n",
       "                                         description experiences_offered  \\\n",
       "0  Cozy, sunny, family home.  Master bedroom high...                none   \n",
       "1  Charming and quiet room in a second floor 1910...                none   \n",
       "2  Come stay with a friendly, middle-aged guy in ...                none   \n",
       "3  Come experience the comforts of home away from...                none   \n",
       "4  My comfy, clean and relaxing home is one block...                none   \n",
       "\n",
       "                               neighborhood_overview  ... review_scores_value  \\\n",
       "0  Roslindale is quiet, convenient and friendly. ...  ...                 NaN   \n",
       "1  The room is in Roslindale, a diverse and prima...  ...                 9.0   \n",
       "2  The LOCATION: Roslindale is a safe and diverse...  ...                10.0   \n",
       "3  Roslindale is a lovely little neighborhood loc...  ...                10.0   \n",
       "4  I love the proximity to downtown, the neighbor...  ...                10.0   \n",
       "\n",
       "  requires_license license jurisdiction_names instant_bookable  \\\n",
       "0                f     NaN                NaN                f   \n",
       "1                f     NaN                NaN                t   \n",
       "2                f     NaN                NaN                f   \n",
       "3                f     NaN                NaN                f   \n",
       "4                f     NaN                NaN                f   \n",
       "\n",
       "  cancellation_policy require_guest_profile_picture  \\\n",
       "0            moderate                             f   \n",
       "1            moderate                             f   \n",
       "2            moderate                             t   \n",
       "3            moderate                             f   \n",
       "4            flexible                             f   \n",
       "\n",
       "  require_guest_phone_verification calculated_host_listings_count  \\\n",
       "0                                f                              1   \n",
       "1                                f                              1   \n",
       "2                                f                              1   \n",
       "3                                f                              1   \n",
       "4                                f                              1   \n",
       "\n",
       "   reviews_per_month  \n",
       "0                NaN  \n",
       "1               1.30  \n",
       "2               0.47  \n",
       "3               1.00  \n",
       "4               2.25  \n",
       "\n",
       "[5 rows x 95 columns]"
      ]
     },
     "execution_count": 70,
     "metadata": {},
     "output_type": "execute_result"
    }
   ],
   "source": [
    "bos_list = pd.read_csv('../Data/listings.csv')\n",
    "bos_list.head()"
   ]
  },
  {
   "cell_type": "code",
   "execution_count": 5,
   "id": "589158ae-005b-45a0-bfc3-54aa1c3c2da0",
   "metadata": {
    "collapsed": true,
    "jupyter": {
     "outputs_hidden": true
    },
    "tags": []
   },
   "outputs": [
    {
     "name": "stdout",
     "output_type": "stream",
     "text": [
      "<class 'pandas.core.frame.DataFrame'>\n",
      "RangeIndex: 3585 entries, 0 to 3584\n",
      "Data columns (total 95 columns):\n",
      " #   Column                            Non-Null Count  Dtype  \n",
      "---  ------                            --------------  -----  \n",
      " 0   id                                3585 non-null   int64  \n",
      " 1   listing_url                       3585 non-null   object \n",
      " 2   scrape_id                         3585 non-null   int64  \n",
      " 3   last_scraped                      3585 non-null   object \n",
      " 4   name                              3585 non-null   object \n",
      " 5   summary                           3442 non-null   object \n",
      " 6   space                             2528 non-null   object \n",
      " 7   description                       3585 non-null   object \n",
      " 8   experiences_offered               3585 non-null   object \n",
      " 9   neighborhood_overview             2170 non-null   object \n",
      " 10  notes                             1610 non-null   object \n",
      " 11  transit                           2295 non-null   object \n",
      " 12  access                            2096 non-null   object \n",
      " 13  interaction                       2031 non-null   object \n",
      " 14  house_rules                       2393 non-null   object \n",
      " 15  thumbnail_url                     2986 non-null   object \n",
      " 16  medium_url                        2986 non-null   object \n",
      " 17  picture_url                       3585 non-null   object \n",
      " 18  xl_picture_url                    2986 non-null   object \n",
      " 19  host_id                           3585 non-null   int64  \n",
      " 20  host_url                          3585 non-null   object \n",
      " 21  host_name                         3585 non-null   object \n",
      " 22  host_since                        3585 non-null   object \n",
      " 23  host_location                     3574 non-null   object \n",
      " 24  host_about                        2276 non-null   object \n",
      " 25  host_response_time                3114 non-null   object \n",
      " 26  host_response_rate                3114 non-null   object \n",
      " 27  host_acceptance_rate              3114 non-null   object \n",
      " 28  host_is_superhost                 3585 non-null   object \n",
      " 29  host_thumbnail_url                3585 non-null   object \n",
      " 30  host_picture_url                  3585 non-null   object \n",
      " 31  host_neighbourhood                3246 non-null   object \n",
      " 32  host_listings_count               3585 non-null   int64  \n",
      " 33  host_total_listings_count         3585 non-null   int64  \n",
      " 34  host_verifications                3585 non-null   object \n",
      " 35  host_has_profile_pic              3585 non-null   object \n",
      " 36  host_identity_verified            3585 non-null   object \n",
      " 37  street                            3585 non-null   object \n",
      " 38  neighbourhood                     3042 non-null   object \n",
      " 39  neighbourhood_cleansed            3585 non-null   object \n",
      " 40  neighbourhood_group_cleansed      0 non-null      float64\n",
      " 41  city                              3583 non-null   object \n",
      " 42  state                             3585 non-null   object \n",
      " 43  zipcode                           3547 non-null   object \n",
      " 44  market                            3571 non-null   object \n",
      " 45  smart_location                    3585 non-null   object \n",
      " 46  country_code                      3585 non-null   object \n",
      " 47  country                           3585 non-null   object \n",
      " 48  latitude                          3585 non-null   float64\n",
      " 49  longitude                         3585 non-null   float64\n",
      " 50  is_location_exact                 3585 non-null   object \n",
      " 51  property_type                     3582 non-null   object \n",
      " 52  room_type                         3585 non-null   object \n",
      " 53  accommodates                      3585 non-null   int64  \n",
      " 54  bathrooms                         3571 non-null   float64\n",
      " 55  bedrooms                          3575 non-null   float64\n",
      " 56  beds                              3576 non-null   float64\n",
      " 57  bed_type                          3585 non-null   object \n",
      " 58  amenities                         3585 non-null   object \n",
      " 59  square_feet                       56 non-null     float64\n",
      " 60  price                             3585 non-null   object \n",
      " 61  weekly_price                      892 non-null    object \n",
      " 62  monthly_price                     888 non-null    object \n",
      " 63  security_deposit                  1342 non-null   object \n",
      " 64  cleaning_fee                      2478 non-null   object \n",
      " 65  guests_included                   3585 non-null   int64  \n",
      " 66  extra_people                      3585 non-null   object \n",
      " 67  minimum_nights                    3585 non-null   int64  \n",
      " 68  maximum_nights                    3585 non-null   int64  \n",
      " 69  calendar_updated                  3585 non-null   object \n",
      " 70  has_availability                  0 non-null      float64\n",
      " 71  availability_30                   3585 non-null   int64  \n",
      " 72  availability_60                   3585 non-null   int64  \n",
      " 73  availability_90                   3585 non-null   int64  \n",
      " 74  availability_365                  3585 non-null   int64  \n",
      " 75  calendar_last_scraped             3585 non-null   object \n",
      " 76  number_of_reviews                 3585 non-null   int64  \n",
      " 77  first_review                      2829 non-null   object \n",
      " 78  last_review                       2829 non-null   object \n",
      " 79  review_scores_rating              2772 non-null   float64\n",
      " 80  review_scores_accuracy            2762 non-null   float64\n",
      " 81  review_scores_cleanliness         2767 non-null   float64\n",
      " 82  review_scores_checkin             2765 non-null   float64\n",
      " 83  review_scores_communication       2767 non-null   float64\n",
      " 84  review_scores_location            2763 non-null   float64\n",
      " 85  review_scores_value               2764 non-null   float64\n",
      " 86  requires_license                  3585 non-null   object \n",
      " 87  license                           0 non-null      float64\n",
      " 88  jurisdiction_names                0 non-null      float64\n",
      " 89  instant_bookable                  3585 non-null   object \n",
      " 90  cancellation_policy               3585 non-null   object \n",
      " 91  require_guest_profile_picture     3585 non-null   object \n",
      " 92  require_guest_phone_verification  3585 non-null   object \n",
      " 93  calculated_host_listings_count    3585 non-null   int64  \n",
      " 94  reviews_per_month                 2829 non-null   float64\n",
      "dtypes: float64(18), int64(15), object(62)\n",
      "memory usage: 2.6+ MB\n"
     ]
    }
   ],
   "source": [
    "bos_list.info()"
   ]
  },
  {
   "cell_type": "code",
   "execution_count": 3,
   "id": "ee8a680f-b41c-4b82-9f7b-0f81395cc3e1",
   "metadata": {},
   "outputs": [
    {
     "data": {
      "text/html": [
       "<div>\n",
       "<style scoped>\n",
       "    .dataframe tbody tr th:only-of-type {\n",
       "        vertical-align: middle;\n",
       "    }\n",
       "\n",
       "    .dataframe tbody tr th {\n",
       "        vertical-align: top;\n",
       "    }\n",
       "\n",
       "    .dataframe thead th {\n",
       "        text-align: right;\n",
       "    }\n",
       "</style>\n",
       "<table border=\"1\" class=\"dataframe\">\n",
       "  <thead>\n",
       "    <tr style=\"text-align: right;\">\n",
       "      <th></th>\n",
       "      <th>id</th>\n",
       "      <th>host_response_time</th>\n",
       "      <th>host_response_rate</th>\n",
       "      <th>host_acceptance_rate</th>\n",
       "      <th>host_identity_verified</th>\n",
       "      <th>cleaning_fee</th>\n",
       "      <th>security_deposit</th>\n",
       "      <th>review_scores_rating</th>\n",
       "      <th>cancellation_policy</th>\n",
       "      <th>host_is_superhost</th>\n",
       "    </tr>\n",
       "  </thead>\n",
       "  <tbody>\n",
       "    <tr>\n",
       "      <th>0</th>\n",
       "      <td>12147973</td>\n",
       "      <td>NaN</td>\n",
       "      <td>NaN</td>\n",
       "      <td>NaN</td>\n",
       "      <td>f</td>\n",
       "      <td>$35.00</td>\n",
       "      <td>NaN</td>\n",
       "      <td>NaN</td>\n",
       "      <td>moderate</td>\n",
       "      <td>f</td>\n",
       "    </tr>\n",
       "    <tr>\n",
       "      <th>1</th>\n",
       "      <td>3075044</td>\n",
       "      <td>within an hour</td>\n",
       "      <td>100%</td>\n",
       "      <td>100%</td>\n",
       "      <td>t</td>\n",
       "      <td>$10.00</td>\n",
       "      <td>$95.00</td>\n",
       "      <td>94.0</td>\n",
       "      <td>moderate</td>\n",
       "      <td>f</td>\n",
       "    </tr>\n",
       "    <tr>\n",
       "      <th>2</th>\n",
       "      <td>6976</td>\n",
       "      <td>within a few hours</td>\n",
       "      <td>100%</td>\n",
       "      <td>88%</td>\n",
       "      <td>t</td>\n",
       "      <td>NaN</td>\n",
       "      <td>NaN</td>\n",
       "      <td>98.0</td>\n",
       "      <td>moderate</td>\n",
       "      <td>t</td>\n",
       "    </tr>\n",
       "    <tr>\n",
       "      <th>3</th>\n",
       "      <td>1436513</td>\n",
       "      <td>within a few hours</td>\n",
       "      <td>100%</td>\n",
       "      <td>50%</td>\n",
       "      <td>f</td>\n",
       "      <td>$50.00</td>\n",
       "      <td>$100.00</td>\n",
       "      <td>100.0</td>\n",
       "      <td>moderate</td>\n",
       "      <td>f</td>\n",
       "    </tr>\n",
       "    <tr>\n",
       "      <th>4</th>\n",
       "      <td>7651065</td>\n",
       "      <td>within an hour</td>\n",
       "      <td>100%</td>\n",
       "      <td>100%</td>\n",
       "      <td>t</td>\n",
       "      <td>$15.00</td>\n",
       "      <td>NaN</td>\n",
       "      <td>99.0</td>\n",
       "      <td>flexible</td>\n",
       "      <td>t</td>\n",
       "    </tr>\n",
       "  </tbody>\n",
       "</table>\n",
       "</div>"
      ],
      "text/plain": [
       "         id  host_response_time host_response_rate host_acceptance_rate  \\\n",
       "0  12147973                 NaN                NaN                  NaN   \n",
       "1   3075044      within an hour               100%                 100%   \n",
       "2      6976  within a few hours               100%                  88%   \n",
       "3   1436513  within a few hours               100%                  50%   \n",
       "4   7651065      within an hour               100%                 100%   \n",
       "\n",
       "  host_identity_verified cleaning_fee security_deposit  review_scores_rating  \\\n",
       "0                      f       $35.00              NaN                   NaN   \n",
       "1                      t       $10.00           $95.00                  94.0   \n",
       "2                      t          NaN              NaN                  98.0   \n",
       "3                      f       $50.00          $100.00                 100.0   \n",
       "4                      t       $15.00              NaN                  99.0   \n",
       "\n",
       "  cancellation_policy host_is_superhost  \n",
       "0            moderate                 f  \n",
       "1            moderate                 f  \n",
       "2            moderate                 t  \n",
       "3            moderate                 f  \n",
       "4            flexible                 t  "
      ]
     },
     "execution_count": 3,
     "metadata": {},
     "output_type": "execute_result"
    }
   ],
   "source": [
    "# Subseting the listing dataset by selecting useful columns only\n",
    "df = bos_list[['id', 'host_response_time', 'host_response_rate', 'host_acceptance_rate', 'host_identity_verified', 'cleaning_fee', \n",
    "               'security_deposit', 'review_scores_rating', 'cancellation_policy', 'host_is_superhost']]\n",
    "df.head()"
   ]
  },
  {
   "cell_type": "code",
   "execution_count": 7,
   "id": "8de90da8-d60d-4470-8f38-f8a782949c4f",
   "metadata": {},
   "outputs": [
    {
     "name": "stdout",
     "output_type": "stream",
     "text": [
      "<class 'pandas.core.frame.DataFrame'>\n",
      "RangeIndex: 3585 entries, 0 to 3584\n",
      "Data columns (total 10 columns):\n",
      " #   Column                  Non-Null Count  Dtype  \n",
      "---  ------                  --------------  -----  \n",
      " 0   id                      3585 non-null   int64  \n",
      " 1   host_response_time      3114 non-null   object \n",
      " 2   host_response_rate      3114 non-null   object \n",
      " 3   host_acceptance_rate    3114 non-null   object \n",
      " 4   host_identity_verified  3585 non-null   object \n",
      " 5   cleaning_fee            2478 non-null   object \n",
      " 6   security_deposit        1342 non-null   object \n",
      " 7   review_scores_rating    2772 non-null   float64\n",
      " 8   cancellation_policy     3585 non-null   object \n",
      " 9   host_is_superhost       3585 non-null   object \n",
      "dtypes: float64(1), int64(1), object(8)\n",
      "memory usage: 280.2+ KB\n"
     ]
    }
   ],
   "source": [
    "df.info()"
   ]
  },
  {
   "cell_type": "code",
   "execution_count": 22,
   "id": "17488c04-c4c6-4074-9659-7a2c0add6b39",
   "metadata": {},
   "outputs": [
    {
     "data": {
      "text/plain": [
       "(3585, 10)"
      ]
     },
     "execution_count": 22,
     "metadata": {},
     "output_type": "execute_result"
    }
   ],
   "source": [
    "df.shape"
   ]
  },
  {
   "cell_type": "markdown",
   "id": "7dbd2aa2-c3d0-45c4-a46a-5c22eb87825a",
   "metadata": {},
   "source": [
    "## EDA"
   ]
  },
  {
   "cell_type": "markdown",
   "id": "ca506d1e-f76e-4609-bf16-0a61f93956d5",
   "metadata": {},
   "source": [
    "### Check & deal with missing values"
   ]
  },
  {
   "cell_type": "code",
   "execution_count": 23,
   "id": "fc5a6e4c-df0f-4422-892b-c95fc197f480",
   "metadata": {
    "tags": []
   },
   "outputs": [
    {
     "data": {
      "text/plain": [
       "{'cancellation_policy', 'host_identity_verified', 'host_is_superhost', 'id'}"
      ]
     },
     "execution_count": 23,
     "metadata": {},
     "output_type": "execute_result"
    }
   ],
   "source": [
    "# Columns in df with no missing values\n",
    "\n",
    "set(df.columns[df.isnull().mean() == 0])"
   ]
  },
  {
   "cell_type": "code",
   "execution_count": 24,
   "id": "80b27fe5-004a-4763-8ad4-4b3df1877d63",
   "metadata": {},
   "outputs": [
    {
     "data": {
      "text/plain": [
       "{'security_deposit'}"
      ]
     },
     "execution_count": 24,
     "metadata": {},
     "output_type": "execute_result"
    }
   ],
   "source": [
    "# Columns in df with over 50% missing values\n",
    "set(df.columns[df.isnull().mean() > 0.5])"
   ]
  },
  {
   "cell_type": "code",
   "execution_count": 4,
   "id": "c299b886-8f89-4186-a2de-567a086e594e",
   "metadata": {
    "tags": []
   },
   "outputs": [
    {
     "data": {
      "text/html": [
       "<div>\n",
       "<style scoped>\n",
       "    .dataframe tbody tr th:only-of-type {\n",
       "        vertical-align: middle;\n",
       "    }\n",
       "\n",
       "    .dataframe tbody tr th {\n",
       "        vertical-align: top;\n",
       "    }\n",
       "\n",
       "    .dataframe thead th {\n",
       "        text-align: right;\n",
       "    }\n",
       "</style>\n",
       "<table border=\"1\" class=\"dataframe\">\n",
       "  <thead>\n",
       "    <tr style=\"text-align: right;\">\n",
       "      <th></th>\n",
       "      <th>id</th>\n",
       "      <th>host_response_time</th>\n",
       "      <th>host_response_rate</th>\n",
       "      <th>host_acceptance_rate</th>\n",
       "      <th>host_identity_verified</th>\n",
       "      <th>cleaning_fee</th>\n",
       "      <th>review_scores_rating</th>\n",
       "      <th>cancellation_policy</th>\n",
       "      <th>host_is_superhost</th>\n",
       "    </tr>\n",
       "  </thead>\n",
       "  <tbody>\n",
       "    <tr>\n",
       "      <th>0</th>\n",
       "      <td>12147973</td>\n",
       "      <td>NaN</td>\n",
       "      <td>NaN</td>\n",
       "      <td>NaN</td>\n",
       "      <td>f</td>\n",
       "      <td>$35.00</td>\n",
       "      <td>NaN</td>\n",
       "      <td>moderate</td>\n",
       "      <td>f</td>\n",
       "    </tr>\n",
       "    <tr>\n",
       "      <th>1</th>\n",
       "      <td>3075044</td>\n",
       "      <td>within an hour</td>\n",
       "      <td>100%</td>\n",
       "      <td>100%</td>\n",
       "      <td>t</td>\n",
       "      <td>$10.00</td>\n",
       "      <td>94.0</td>\n",
       "      <td>moderate</td>\n",
       "      <td>f</td>\n",
       "    </tr>\n",
       "    <tr>\n",
       "      <th>2</th>\n",
       "      <td>6976</td>\n",
       "      <td>within a few hours</td>\n",
       "      <td>100%</td>\n",
       "      <td>88%</td>\n",
       "      <td>t</td>\n",
       "      <td>NaN</td>\n",
       "      <td>98.0</td>\n",
       "      <td>moderate</td>\n",
       "      <td>t</td>\n",
       "    </tr>\n",
       "    <tr>\n",
       "      <th>3</th>\n",
       "      <td>1436513</td>\n",
       "      <td>within a few hours</td>\n",
       "      <td>100%</td>\n",
       "      <td>50%</td>\n",
       "      <td>f</td>\n",
       "      <td>$50.00</td>\n",
       "      <td>100.0</td>\n",
       "      <td>moderate</td>\n",
       "      <td>f</td>\n",
       "    </tr>\n",
       "    <tr>\n",
       "      <th>4</th>\n",
       "      <td>7651065</td>\n",
       "      <td>within an hour</td>\n",
       "      <td>100%</td>\n",
       "      <td>100%</td>\n",
       "      <td>t</td>\n",
       "      <td>$15.00</td>\n",
       "      <td>99.0</td>\n",
       "      <td>flexible</td>\n",
       "      <td>t</td>\n",
       "    </tr>\n",
       "  </tbody>\n",
       "</table>\n",
       "</div>"
      ],
      "text/plain": [
       "         id  host_response_time host_response_rate host_acceptance_rate  \\\n",
       "0  12147973                 NaN                NaN                  NaN   \n",
       "1   3075044      within an hour               100%                 100%   \n",
       "2      6976  within a few hours               100%                  88%   \n",
       "3   1436513  within a few hours               100%                  50%   \n",
       "4   7651065      within an hour               100%                 100%   \n",
       "\n",
       "  host_identity_verified cleaning_fee  review_scores_rating  \\\n",
       "0                      f       $35.00                   NaN   \n",
       "1                      t       $10.00                  94.0   \n",
       "2                      t          NaN                  98.0   \n",
       "3                      f       $50.00                 100.0   \n",
       "4                      t       $15.00                  99.0   \n",
       "\n",
       "  cancellation_policy host_is_superhost  \n",
       "0            moderate                 f  \n",
       "1            moderate                 f  \n",
       "2            moderate                 t  \n",
       "3            moderate                 f  \n",
       "4            flexible                 t  "
      ]
     },
     "execution_count": 4,
     "metadata": {},
     "output_type": "execute_result"
    }
   ],
   "source": [
    "# Drop the columns in df with over 50% missing values\n",
    "df = df.drop(df.columns[df.isnull().mean() > 0.5], axis = 1)\n",
    "df.head()"
   ]
  },
  {
   "cell_type": "code",
   "execution_count": 5,
   "id": "bc96ee04-2f9d-448b-9c98-402a61016961",
   "metadata": {},
   "outputs": [
    {
     "data": {
      "text/plain": [
       "(3585, 9)"
      ]
     },
     "execution_count": 5,
     "metadata": {},
     "output_type": "execute_result"
    }
   ],
   "source": [
    "df.shape"
   ]
  },
  {
   "cell_type": "code",
   "execution_count": 6,
   "id": "11d61632-b93b-4777-b70c-915b8633353e",
   "metadata": {},
   "outputs": [
    {
     "data": {
      "text/plain": [
       "(2772, 9)"
      ]
     },
     "execution_count": 6,
     "metadata": {},
     "output_type": "execute_result"
    }
   ],
   "source": [
    "# Drop any row containing NAN in intended dependent variable review_scores_rating\n",
    "df = df.dropna(subset = 'review_scores_rating', how = 'any', axis = 0)\n",
    "df.shape"
   ]
  },
  {
   "cell_type": "code",
   "execution_count": 28,
   "id": "0a187c20-e709-4705-9313-0e7fa951d47b",
   "metadata": {},
   "outputs": [
    {
     "data": {
      "text/plain": [
       "{'date', 'id', 'listing_id', 'reviewer_id', 'reviewer_name'}"
      ]
     },
     "execution_count": 28,
     "metadata": {},
     "output_type": "execute_result"
    }
   ],
   "source": [
    "# Columns in bos_rev with no missing values\n",
    "\n",
    "set(bos_rev.columns[bos_rev.isnull().mean() == 0])"
   ]
  },
  {
   "cell_type": "code",
   "execution_count": 29,
   "id": "1f1c436e-b037-46f5-908d-7f1fb2fb09df",
   "metadata": {},
   "outputs": [
    {
     "data": {
      "text/plain": [
       "set()"
      ]
     },
     "execution_count": 29,
     "metadata": {},
     "output_type": "execute_result"
    }
   ],
   "source": [
    "# Columns in bos_rev with over 50% missing values\n",
    "set(bos_rev.columns[bos_rev.isnull().mean() > 0.5])"
   ]
  },
  {
   "cell_type": "code",
   "execution_count": 45,
   "id": "1484e1e3-475b-47d3-9b2c-ed19a9b1eabd",
   "metadata": {},
   "outputs": [
    {
     "data": {
      "text/plain": [
       "(68222, 6)"
      ]
     },
     "execution_count": 45,
     "metadata": {},
     "output_type": "execute_result"
    }
   ],
   "source": [
    "# Drop any row containing NAN in target variable for sentiment analysis - comments\n",
    "bos_rev = bos_rev.dropna(subset = 'comments', how = 'any', axis = 0)\n",
    "bos_rev.shape"
   ]
  },
  {
   "cell_type": "code",
   "execution_count": 31,
   "id": "474b9375-2d24-4c69-905f-ee7b8c2ce288",
   "metadata": {},
   "outputs": [
    {
     "name": "stdout",
     "output_type": "stream",
     "text": [
      "<class 'pandas.core.frame.DataFrame'>\n",
      "Int64Index: 2772 entries, 1 to 3583\n",
      "Data columns (total 9 columns):\n",
      " #   Column                  Non-Null Count  Dtype  \n",
      "---  ------                  --------------  -----  \n",
      " 0   id                      2772 non-null   int64  \n",
      " 1   host_response_time      2552 non-null   object \n",
      " 2   host_response_rate      2552 non-null   object \n",
      " 3   host_acceptance_rate    2552 non-null   object \n",
      " 4   host_identity_verified  2772 non-null   object \n",
      " 5   cleaning_fee            1980 non-null   object \n",
      " 6   review_scores_rating    2772 non-null   float64\n",
      " 7   cancellation_policy     2772 non-null   object \n",
      " 8   host_is_superhost       2772 non-null   object \n",
      "dtypes: float64(1), int64(1), object(7)\n",
      "memory usage: 216.6+ KB\n"
     ]
    }
   ],
   "source": [
    "df.info()"
   ]
  },
  {
   "cell_type": "code",
   "execution_count": 32,
   "id": "d85ba8c8-8f8f-4ac8-ac3d-7043b03deb7a",
   "metadata": {},
   "outputs": [
    {
     "name": "stdout",
     "output_type": "stream",
     "text": [
      "<class 'pandas.core.frame.DataFrame'>\n",
      "Int64Index: 68222 entries, 0 to 68274\n",
      "Data columns (total 6 columns):\n",
      " #   Column         Non-Null Count  Dtype \n",
      "---  ------         --------------  ----- \n",
      " 0   listing_id     68222 non-null  int64 \n",
      " 1   id             68222 non-null  int64 \n",
      " 2   date           68222 non-null  object\n",
      " 3   reviewer_id    68222 non-null  int64 \n",
      " 4   reviewer_name  68222 non-null  object\n",
      " 5   comments       68222 non-null  object\n",
      "dtypes: int64(3), object(3)\n",
      "memory usage: 3.6+ MB\n"
     ]
    }
   ],
   "source": [
    "bos_rev.info()"
   ]
  },
  {
   "cell_type": "markdown",
   "id": "cc2ee155-52b4-4ab3-a8f4-9a919e4d16bd",
   "metadata": {},
   "source": [
    "#### Comment"
   ]
  },
  {
   "cell_type": "markdown",
   "id": "655d2b1d-70d6-4787-8407-49d0ae7aa3c8",
   "metadata": {},
   "source": [
    "To start with, the listing and review datasets are loaded. Listing dataset is subsetted so that only columns that may be used are selected into my main dataframe - df. Subsetted listing dataset df contains 3585 rows and the review dataset contains 68275 rows before cleaning. \n",
    "\n",
    "The initial exploration of the listing and review data shows that there are missing values in both datasets. For the subsetted listing dataset(df), only 'security deposit' column contains more than 50% missing value and is therefore dropped. To answer our second business question, column 'review_scores_rating' will be used as target variable in a linear regression. Therefore, any rows containing missing value in 'review_score_rating' is dropped as well. This left us 2772 rows in df. For the review data, the 'comments' column is the target variable for sentiment analysis to answer the third business question. Thus, any row containing missing values in column 'comments' is dropped. This left us 68222 rows.\n",
    "\n",
    "Now the initial cleaning is done, we will move onto data wrangling."
   ]
  },
  {
   "cell_type": "markdown",
   "id": "22171b70-35ac-4783-b2c6-d56000bdbf72",
   "metadata": {},
   "source": [
    "### Data Wrangling"
   ]
  },
  {
   "cell_type": "code",
   "execution_count": 46,
   "id": "d97a76bc-0b8f-4551-a963-fb902b157480",
   "metadata": {},
   "outputs": [
    {
     "data": {
      "text/html": [
       "<div>\n",
       "<style scoped>\n",
       "    .dataframe tbody tr th:only-of-type {\n",
       "        vertical-align: middle;\n",
       "    }\n",
       "\n",
       "    .dataframe tbody tr th {\n",
       "        vertical-align: top;\n",
       "    }\n",
       "\n",
       "    .dataframe thead th {\n",
       "        text-align: right;\n",
       "    }\n",
       "</style>\n",
       "<table border=\"1\" class=\"dataframe\">\n",
       "  <thead>\n",
       "    <tr style=\"text-align: right;\">\n",
       "      <th></th>\n",
       "      <th>listing_id</th>\n",
       "      <th>id</th>\n",
       "      <th>date</th>\n",
       "      <th>reviewer_id</th>\n",
       "      <th>reviewer_name</th>\n",
       "      <th>comments</th>\n",
       "      <th>month</th>\n",
       "    </tr>\n",
       "  </thead>\n",
       "  <tbody>\n",
       "    <tr>\n",
       "      <th>0</th>\n",
       "      <td>1178162</td>\n",
       "      <td>4724140</td>\n",
       "      <td>2013-05-21</td>\n",
       "      <td>4298113</td>\n",
       "      <td>Olivier</td>\n",
       "      <td>My stay at islam's place was really cool! Good...</td>\n",
       "      <td>May</td>\n",
       "    </tr>\n",
       "    <tr>\n",
       "      <th>1</th>\n",
       "      <td>1178162</td>\n",
       "      <td>4869189</td>\n",
       "      <td>2013-05-29</td>\n",
       "      <td>6452964</td>\n",
       "      <td>Charlotte</td>\n",
       "      <td>Great location for both airport and city - gre...</td>\n",
       "      <td>May</td>\n",
       "    </tr>\n",
       "    <tr>\n",
       "      <th>2</th>\n",
       "      <td>1178162</td>\n",
       "      <td>5003196</td>\n",
       "      <td>2013-06-06</td>\n",
       "      <td>6449554</td>\n",
       "      <td>Sebastian</td>\n",
       "      <td>We really enjoyed our stay at Islams house. Fr...</td>\n",
       "      <td>June</td>\n",
       "    </tr>\n",
       "    <tr>\n",
       "      <th>3</th>\n",
       "      <td>1178162</td>\n",
       "      <td>5150351</td>\n",
       "      <td>2013-06-15</td>\n",
       "      <td>2215611</td>\n",
       "      <td>Marine</td>\n",
       "      <td>The room was nice and clean and so were the co...</td>\n",
       "      <td>June</td>\n",
       "    </tr>\n",
       "    <tr>\n",
       "      <th>4</th>\n",
       "      <td>1178162</td>\n",
       "      <td>5171140</td>\n",
       "      <td>2013-06-16</td>\n",
       "      <td>6848427</td>\n",
       "      <td>Andrew</td>\n",
       "      <td>Great location. Just 5 mins walk from the Airp...</td>\n",
       "      <td>June</td>\n",
       "    </tr>\n",
       "  </tbody>\n",
       "</table>\n",
       "</div>"
      ],
      "text/plain": [
       "   listing_id       id       date  reviewer_id reviewer_name  \\\n",
       "0     1178162  4724140 2013-05-21      4298113       Olivier   \n",
       "1     1178162  4869189 2013-05-29      6452964     Charlotte   \n",
       "2     1178162  5003196 2013-06-06      6449554     Sebastian   \n",
       "3     1178162  5150351 2013-06-15      2215611        Marine   \n",
       "4     1178162  5171140 2013-06-16      6848427        Andrew   \n",
       "\n",
       "                                            comments month  \n",
       "0  My stay at islam's place was really cool! Good...   May  \n",
       "1  Great location for both airport and city - gre...   May  \n",
       "2  We really enjoyed our stay at Islams house. Fr...  June  \n",
       "3  The room was nice and clean and so were the co...  June  \n",
       "4  Great location. Just 5 mins walk from the Airp...  June  "
      ]
     },
     "execution_count": 46,
     "metadata": {},
     "output_type": "execute_result"
    }
   ],
   "source": [
    "# Extracting month from date column for both dataframes\n",
    "# Converting nuemric month to actual month name\n",
    "\n",
    "bos_rev['date'] = pd.to_datetime(bos_rev['date'])\n",
    "\n",
    "dm_map = {\n",
    "    1: 'January',\n",
    "    2: 'Feburary',\n",
    "    3: 'March',\n",
    "    4: 'April',\n",
    "    5: 'May',\n",
    "    6: 'June',\n",
    "    7: 'July',\n",
    "    8: 'August',\n",
    "    9: 'September',\n",
    "    10: 'October',\n",
    "    11: 'November',\n",
    "    12: 'December'\n",
    "}\n",
    "\n",
    "bos_rev['month'] = bos_rev['date'].dt.month.map(dm_map)\n",
    "\n",
    "bos_rev.head()"
   ]
  },
  {
   "cell_type": "code",
   "execution_count": 7,
   "id": "35320177-2c37-4cc4-b4ff-2695c2e8044c",
   "metadata": {},
   "outputs": [],
   "source": [
    "# Convert cleaning fee to a float and fill the NAN in cleaning fee with mean\n",
    "df['cleaning_fee_clean'] = df['cleaning_fee'].replace('[^.0-9]', '', regex=True).astype(float)"
   ]
  },
  {
   "cell_type": "code",
   "execution_count": 8,
   "id": "99aadf0d-1843-4ed4-bb17-6d3b49f4cd30",
   "metadata": {
    "tags": []
   },
   "outputs": [
    {
     "data": {
      "text/plain": [
       "1       10.0\n",
       "2        NaN\n",
       "3       50.0\n",
       "4       15.0\n",
       "5       30.0\n",
       "        ... \n",
       "3574     NaN\n",
       "3575     NaN\n",
       "3578     NaN\n",
       "3580     NaN\n",
       "3583     NaN\n",
       "Name: cleaning_fee_clean, Length: 2772, dtype: float64"
      ]
     },
     "execution_count": 8,
     "metadata": {},
     "output_type": "execute_result"
    }
   ],
   "source": [
    "df['cleaning_fee_clean']"
   ]
  },
  {
   "cell_type": "code",
   "execution_count": 9,
   "id": "d293e588-5951-4444-b7ad-645ff7cf329c",
   "metadata": {
    "tags": []
   },
   "outputs": [
    {
     "data": {
      "text/plain": [
       "65.682828     792\n",
       "50.000000     267\n",
       "100.000000    225\n",
       "25.000000     179\n",
       "10.000000     115\n",
       "             ... \n",
       "54.000000       1\n",
       "39.000000       1\n",
       "84.000000       1\n",
       "158.000000      1\n",
       "59.000000       1\n",
       "Name: cleaning_fee_clean, Length: 74, dtype: int64"
      ]
     },
     "execution_count": 9,
     "metadata": {},
     "output_type": "execute_result"
    }
   ],
   "source": [
    "df['cleaning_fee_clean'].fillna(df['cleaning_fee_clean'].mean(), axis = 0, inplace = True)\n",
    "df['cleaning_fee_clean'].value_counts()"
   ]
  },
  {
   "cell_type": "code",
   "execution_count": 10,
   "id": "4929dfef-bf5e-4068-8137-f3c411909a79",
   "metadata": {
    "tags": []
   },
   "outputs": [
    {
     "name": "stdout",
     "output_type": "stream",
     "text": [
      "<class 'pandas.core.frame.DataFrame'>\n",
      "Int64Index: 2772 entries, 1 to 3583\n",
      "Data columns (total 9 columns):\n",
      " #   Column                  Non-Null Count  Dtype  \n",
      "---  ------                  --------------  -----  \n",
      " 0   id                      2772 non-null   int64  \n",
      " 1   host_response_time      2552 non-null   object \n",
      " 2   host_response_rate      2552 non-null   object \n",
      " 3   host_acceptance_rate    2552 non-null   object \n",
      " 4   host_identity_verified  2772 non-null   object \n",
      " 5   review_scores_rating    2772 non-null   float64\n",
      " 6   cancellation_policy     2772 non-null   object \n",
      " 7   host_is_superhost       2772 non-null   object \n",
      " 8   cleaning_fee_clean      2772 non-null   float64\n",
      "dtypes: float64(2), int64(1), object(6)\n",
      "memory usage: 216.6+ KB\n"
     ]
    }
   ],
   "source": [
    "df = df.drop('cleaning_fee', axis = 1)\n",
    "df.info()"
   ]
  },
  {
   "cell_type": "code",
   "execution_count": 11,
   "id": "301a2bfe-f35b-4cee-b9d3-eea88f05be30",
   "metadata": {},
   "outputs": [
    {
     "data": {
      "text/plain": [
       "within an hour        1172\n",
       "within a few hours     977\n",
       "within a day           381\n",
       "not recorded           220\n",
       "a few days or more      22\n",
       "Name: hostres_time_clean, dtype: int64"
      ]
     },
     "execution_count": 11,
     "metadata": {},
     "output_type": "execute_result"
    }
   ],
   "source": [
    "# Fill the NAN in host_response_time with string 'not recorded'\n",
    "df['hostres_time_clean'] = df['host_response_time'].fillna('not recorded', axis = 0)\n",
    "df['hostres_time_clean'].value_counts()"
   ]
  },
  {
   "cell_type": "code",
   "execution_count": 12,
   "id": "0d56a56e-462e-4e81-8e20-904dc6542ddd",
   "metadata": {},
   "outputs": [
    {
     "name": "stdout",
     "output_type": "stream",
     "text": [
      "<class 'pandas.core.frame.DataFrame'>\n",
      "Int64Index: 2772 entries, 1 to 3583\n",
      "Data columns (total 9 columns):\n",
      " #   Column                  Non-Null Count  Dtype  \n",
      "---  ------                  --------------  -----  \n",
      " 0   id                      2772 non-null   int64  \n",
      " 1   host_response_rate      2552 non-null   object \n",
      " 2   host_acceptance_rate    2552 non-null   object \n",
      " 3   host_identity_verified  2772 non-null   object \n",
      " 4   review_scores_rating    2772 non-null   float64\n",
      " 5   cancellation_policy     2772 non-null   object \n",
      " 6   host_is_superhost       2772 non-null   object \n",
      " 7   cleaning_fee_clean      2772 non-null   float64\n",
      " 8   hostres_time_clean      2772 non-null   object \n",
      "dtypes: float64(2), int64(1), object(6)\n",
      "memory usage: 216.6+ KB\n"
     ]
    }
   ],
   "source": [
    "df = df.drop('host_response_time', axis = 1)\n",
    "df.info()"
   ]
  },
  {
   "cell_type": "code",
   "execution_count": 13,
   "id": "7df279d8-c903-46b9-b617-28ab229262fb",
   "metadata": {},
   "outputs": [
    {
     "data": {
      "text/plain": [
       "strict             1279\n",
       "moderate            786\n",
       "flexible            639\n",
       "super_strict_30      68\n",
       "Name: cancellation_policy, dtype: int64"
      ]
     },
     "execution_count": 13,
     "metadata": {},
     "output_type": "execute_result"
    }
   ],
   "source": [
    "# Check cancellation policy category\n",
    "df['cancellation_policy'].value_counts()"
   ]
  },
  {
   "cell_type": "code",
   "execution_count": 14,
   "id": "310eda26-ed73-48ea-8c12-796b376a380a",
   "metadata": {
    "tags": []
   },
   "outputs": [],
   "source": [
    "# Create dummy variable for instant_bookable and host_identity_verified\n",
    "df1 = pd.get_dummies(df[['host_identity_verified', 'cancellation_policy', 'host_is_superhost']], drop_first = True)\n",
    "df = pd.concat([df, df1], axis = 1)"
   ]
  },
  {
   "cell_type": "code",
   "execution_count": 15,
   "id": "c20b3c22-84ec-4ed4-ac25-f39ac40312c8",
   "metadata": {},
   "outputs": [
    {
     "data": {
      "text/html": [
       "<div>\n",
       "<style scoped>\n",
       "    .dataframe tbody tr th:only-of-type {\n",
       "        vertical-align: middle;\n",
       "    }\n",
       "\n",
       "    .dataframe tbody tr th {\n",
       "        vertical-align: top;\n",
       "    }\n",
       "\n",
       "    .dataframe thead th {\n",
       "        text-align: right;\n",
       "    }\n",
       "</style>\n",
       "<table border=\"1\" class=\"dataframe\">\n",
       "  <thead>\n",
       "    <tr style=\"text-align: right;\">\n",
       "      <th></th>\n",
       "      <th>id</th>\n",
       "      <th>host_response_rate</th>\n",
       "      <th>host_acceptance_rate</th>\n",
       "      <th>review_scores_rating</th>\n",
       "      <th>cleaning_fee_clean</th>\n",
       "      <th>hostres_time_clean</th>\n",
       "      <th>host_identity_verified_t</th>\n",
       "      <th>cancellation_policy_moderate</th>\n",
       "      <th>cancellation_policy_strict</th>\n",
       "      <th>cancellation_policy_super_strict_30</th>\n",
       "      <th>host_is_superhost_t</th>\n",
       "    </tr>\n",
       "  </thead>\n",
       "  <tbody>\n",
       "    <tr>\n",
       "      <th>1</th>\n",
       "      <td>3075044</td>\n",
       "      <td>100%</td>\n",
       "      <td>100%</td>\n",
       "      <td>94.0</td>\n",
       "      <td>10.000000</td>\n",
       "      <td>within an hour</td>\n",
       "      <td>1</td>\n",
       "      <td>1</td>\n",
       "      <td>0</td>\n",
       "      <td>0</td>\n",
       "      <td>0</td>\n",
       "    </tr>\n",
       "    <tr>\n",
       "      <th>2</th>\n",
       "      <td>6976</td>\n",
       "      <td>100%</td>\n",
       "      <td>88%</td>\n",
       "      <td>98.0</td>\n",
       "      <td>65.682828</td>\n",
       "      <td>within a few hours</td>\n",
       "      <td>1</td>\n",
       "      <td>1</td>\n",
       "      <td>0</td>\n",
       "      <td>0</td>\n",
       "      <td>1</td>\n",
       "    </tr>\n",
       "    <tr>\n",
       "      <th>3</th>\n",
       "      <td>1436513</td>\n",
       "      <td>100%</td>\n",
       "      <td>50%</td>\n",
       "      <td>100.0</td>\n",
       "      <td>50.000000</td>\n",
       "      <td>within a few hours</td>\n",
       "      <td>0</td>\n",
       "      <td>1</td>\n",
       "      <td>0</td>\n",
       "      <td>0</td>\n",
       "      <td>0</td>\n",
       "    </tr>\n",
       "    <tr>\n",
       "      <th>4</th>\n",
       "      <td>7651065</td>\n",
       "      <td>100%</td>\n",
       "      <td>100%</td>\n",
       "      <td>99.0</td>\n",
       "      <td>15.000000</td>\n",
       "      <td>within an hour</td>\n",
       "      <td>1</td>\n",
       "      <td>0</td>\n",
       "      <td>0</td>\n",
       "      <td>0</td>\n",
       "      <td>1</td>\n",
       "    </tr>\n",
       "    <tr>\n",
       "      <th>5</th>\n",
       "      <td>12386020</td>\n",
       "      <td>100%</td>\n",
       "      <td>95%</td>\n",
       "      <td>100.0</td>\n",
       "      <td>30.000000</td>\n",
       "      <td>within a few hours</td>\n",
       "      <td>1</td>\n",
       "      <td>0</td>\n",
       "      <td>0</td>\n",
       "      <td>0</td>\n",
       "      <td>1</td>\n",
       "    </tr>\n",
       "  </tbody>\n",
       "</table>\n",
       "</div>"
      ],
      "text/plain": [
       "         id host_response_rate host_acceptance_rate  review_scores_rating  \\\n",
       "1   3075044               100%                 100%                  94.0   \n",
       "2      6976               100%                  88%                  98.0   \n",
       "3   1436513               100%                  50%                 100.0   \n",
       "4   7651065               100%                 100%                  99.0   \n",
       "5  12386020               100%                  95%                 100.0   \n",
       "\n",
       "   cleaning_fee_clean  hostres_time_clean  host_identity_verified_t  \\\n",
       "1           10.000000      within an hour                         1   \n",
       "2           65.682828  within a few hours                         1   \n",
       "3           50.000000  within a few hours                         0   \n",
       "4           15.000000      within an hour                         1   \n",
       "5           30.000000  within a few hours                         1   \n",
       "\n",
       "   cancellation_policy_moderate  cancellation_policy_strict  \\\n",
       "1                             1                           0   \n",
       "2                             1                           0   \n",
       "3                             1                           0   \n",
       "4                             0                           0   \n",
       "5                             0                           0   \n",
       "\n",
       "   cancellation_policy_super_strict_30  host_is_superhost_t  \n",
       "1                                    0                    0  \n",
       "2                                    0                    1  \n",
       "3                                    0                    0  \n",
       "4                                    0                    1  \n",
       "5                                    0                    1  "
      ]
     },
     "execution_count": 15,
     "metadata": {},
     "output_type": "execute_result"
    }
   ],
   "source": [
    "# Drop original column for two binary variable. Original column for host response time is needed for further analysis\n",
    "df = df.drop(['host_identity_verified', 'cancellation_policy', 'host_is_superhost'], axis = 1)\n",
    "df.head()"
   ]
  },
  {
   "cell_type": "code",
   "execution_count": 16,
   "id": "ce995d1e-e402-41f6-a632-7f628a745fde",
   "metadata": {},
   "outputs": [],
   "source": [
    "# Convert host_response_rate & host_acceptance rate and fill with mean\n",
    "def conv_perc(x):\n",
    "    return x.str.strip('%').astype('float')/100"
   ]
  },
  {
   "cell_type": "code",
   "execution_count": 17,
   "id": "fd58b5d8-f533-4d3c-8a27-d7b07eb48683",
   "metadata": {},
   "outputs": [
    {
     "data": {
      "text/plain": [
       "1       1.00\n",
       "2       1.00\n",
       "3       1.00\n",
       "4       1.00\n",
       "5       1.00\n",
       "        ... \n",
       "3574    1.00\n",
       "3575    0.96\n",
       "3578    1.00\n",
       "3580    0.96\n",
       "3583    1.00\n",
       "Name: hostres_rate_clean, Length: 2772, dtype: float64"
      ]
     },
     "execution_count": 17,
     "metadata": {},
     "output_type": "execute_result"
    }
   ],
   "source": [
    "df['hostres_rate_clean'] = conv_perc(df['host_response_rate'])\n",
    "df['hostres_rate_clean'].fillna(df['hostres_rate_clean'].mean(), axis = 0, inplace = True)\n",
    "df['hostres_rate_clean']"
   ]
  },
  {
   "cell_type": "code",
   "execution_count": 18,
   "id": "92171681-6516-4f25-a201-bf7eb543235b",
   "metadata": {},
   "outputs": [
    {
     "data": {
      "text/plain": [
       "1       1.00\n",
       "2       0.88\n",
       "3       0.50\n",
       "4       1.00\n",
       "5       0.95\n",
       "        ... \n",
       "3574    1.00\n",
       "3575    1.00\n",
       "3578    1.00\n",
       "3580    1.00\n",
       "3583    0.96\n",
       "Name: hostacp_rate_clean, Length: 2772, dtype: float64"
      ]
     },
     "execution_count": 18,
     "metadata": {},
     "output_type": "execute_result"
    }
   ],
   "source": [
    "df['hostacp_rate_clean'] = conv_perc(df['host_acceptance_rate'])\n",
    "df['hostacp_rate_clean'].fillna(df['hostacp_rate_clean'].mean(), axis = 0, inplace = True)\n",
    "df['hostacp_rate_clean']"
   ]
  },
  {
   "cell_type": "code",
   "execution_count": 19,
   "id": "adf1335a-dc6f-45cd-a2dd-fded0511ad0d",
   "metadata": {},
   "outputs": [
    {
     "name": "stdout",
     "output_type": "stream",
     "text": [
      "<class 'pandas.core.frame.DataFrame'>\n",
      "Int64Index: 2772 entries, 1 to 3583\n",
      "Data columns (total 11 columns):\n",
      " #   Column                               Non-Null Count  Dtype  \n",
      "---  ------                               --------------  -----  \n",
      " 0   id                                   2772 non-null   int64  \n",
      " 1   review_scores_rating                 2772 non-null   float64\n",
      " 2   cleaning_fee_clean                   2772 non-null   float64\n",
      " 3   hostres_time_clean                   2772 non-null   object \n",
      " 4   host_identity_verified_t             2772 non-null   uint8  \n",
      " 5   cancellation_policy_moderate         2772 non-null   uint8  \n",
      " 6   cancellation_policy_strict           2772 non-null   uint8  \n",
      " 7   cancellation_policy_super_strict_30  2772 non-null   uint8  \n",
      " 8   host_is_superhost_t                  2772 non-null   uint8  \n",
      " 9   hostres_rate_clean                   2772 non-null   float64\n",
      " 10  hostacp_rate_clean                   2772 non-null   float64\n",
      "dtypes: float64(4), int64(1), object(1), uint8(5)\n",
      "memory usage: 165.1+ KB\n"
     ]
    }
   ],
   "source": [
    "df = df.drop(['host_acceptance_rate', 'host_response_rate'], axis = 1)\n",
    "df.info()"
   ]
  },
  {
   "cell_type": "code",
   "execution_count": 20,
   "id": "e86f188a-246e-41a2-8c5c-88bbe1cb0a4d",
   "metadata": {},
   "outputs": [
    {
     "name": "stdout",
     "output_type": "stream",
     "text": [
      "<class 'pandas.core.frame.DataFrame'>\n",
      "Int64Index: 2772 entries, 1 to 3583\n",
      "Data columns (total 11 columns):\n",
      " #   Column                               Non-Null Count  Dtype  \n",
      "---  ------                               --------------  -----  \n",
      " 0   id                                   2772 non-null   int64  \n",
      " 1   review_scores_rating                 2772 non-null   float64\n",
      " 2   cleaning_fee_clean                   2772 non-null   float64\n",
      " 3   hostres_time_clean                   2772 non-null   object \n",
      " 4   host_identity_verified_t             2772 non-null   uint8  \n",
      " 5   cancellation_policy_moderate         2772 non-null   uint8  \n",
      " 6   cancellation_policy_strict           2772 non-null   uint8  \n",
      " 7   cancellation_policy_super_strict_30  2772 non-null   uint8  \n",
      " 8   host_is_superhost_t                  2772 non-null   uint8  \n",
      " 9   hostres_rate_clean                   2772 non-null   float64\n",
      " 10  hostacp_rate_clean                   2772 non-null   float64\n",
      "dtypes: float64(4), int64(1), object(1), uint8(5)\n",
      "memory usage: 165.1+ KB\n"
     ]
    }
   ],
   "source": [
    "df.info()"
   ]
  },
  {
   "cell_type": "markdown",
   "id": "e4a5284b-db97-495c-ac34-6f94d9d24077",
   "metadata": {},
   "source": [
    "#### Comment"
   ]
  },
  {
   "cell_type": "markdown",
   "id": "a2e6502b-a1ae-4ba2-b0ee-355d78ce203d",
   "metadata": {},
   "source": [
    "For data wrangling, 'date' column is the review data is converted to datetime object and a new column'month' is created to store the month extracted from 'date' column. For subsetted listing data df, 'cleaning fee' column is converted from currency to float number and all NAN values is filled with the average cleaning fee. As 'host_response_time' column stores string object, the missing values are filled with string 'not recorded'. For both 'host_response_rate' and 'host_acceptance_rate' column, values are converted from percentage to float first and NAN values are then filled with the mean value of each column. Moreover, dummy variables are created for categorical variable instant_bookable, host_identity_verified and hostres_time_clean for regression use. Lastly, original 'instant_bookable', 'host_identity_verified', 'cleaning fee', 'host_response_time', 'host_response_rate', 'host_acceptance_rate' columns are dropped from the df. We are now ready to answer our business questions."
   ]
  },
  {
   "cell_type": "markdown",
   "id": "c2266dcb-6028-449a-9a31-6b0041609d06",
   "metadata": {},
   "source": [
    "## Analysis"
   ]
  },
  {
   "cell_type": "markdown",
   "id": "c8314243-0645-4bc7-8d4e-865a122b8f64",
   "metadata": {},
   "source": [
    "### Answering Business Question 1"
   ]
  },
  {
   "cell_type": "code",
   "execution_count": 28,
   "id": "48676161-913f-4e1b-b783-e2c5bc43ae51",
   "metadata": {},
   "outputs": [
    {
     "data": {
      "image/png": "[encoded data removed]",
      "text/plain": [
       "<Figure size 576x432 with 1 Axes>"
      ]
     },
     "metadata": {
      "needs_background": "light"
     },
     "output_type": "display_data"
    }
   ],
   "source": [
    "# Creating a bar plot to visualise the count of each category of 'host response time' column \n",
    "plt.figure(figsize=(8,6))\n",
    "\n",
    "sns.countplot(x = 'hostres_time_clean', data = df, palette='coolwarm')\n",
    "\n",
    "plt.title('Host Response Time (count)')\n",
    "plt.xlabel('Category')\n",
    "plt.ylabel('Count')\n",
    "\n",
    "plt.show()"
   ]
  },
  {
   "cell_type": "code",
   "execution_count": 23,
   "id": "789d612a-2535-4294-af8c-06dbbc3d4002",
   "metadata": {},
   "outputs": [
    {
     "data": {
      "text/html": [
       "<div>\n",
       "<style scoped>\n",
       "    .dataframe tbody tr th:only-of-type {\n",
       "        vertical-align: middle;\n",
       "    }\n",
       "\n",
       "    .dataframe tbody tr th {\n",
       "        vertical-align: top;\n",
       "    }\n",
       "\n",
       "    .dataframe thead th {\n",
       "        text-align: right;\n",
       "    }\n",
       "</style>\n",
       "<table border=\"1\" class=\"dataframe\">\n",
       "  <thead>\n",
       "    <tr style=\"text-align: right;\">\n",
       "      <th></th>\n",
       "      <th>index</th>\n",
       "      <th>hostres_time_clean</th>\n",
       "    </tr>\n",
       "  </thead>\n",
       "  <tbody>\n",
       "    <tr>\n",
       "      <th>0</th>\n",
       "      <td>within an hour</td>\n",
       "      <td>0.422799</td>\n",
       "    </tr>\n",
       "    <tr>\n",
       "      <th>1</th>\n",
       "      <td>within a few hours</td>\n",
       "      <td>0.352453</td>\n",
       "    </tr>\n",
       "    <tr>\n",
       "      <th>2</th>\n",
       "      <td>within a day</td>\n",
       "      <td>0.137446</td>\n",
       "    </tr>\n",
       "    <tr>\n",
       "      <th>3</th>\n",
       "      <td>not recorded</td>\n",
       "      <td>0.079365</td>\n",
       "    </tr>\n",
       "    <tr>\n",
       "      <th>4</th>\n",
       "      <td>a few days or more</td>\n",
       "      <td>0.007937</td>\n",
       "    </tr>\n",
       "  </tbody>\n",
       "</table>\n",
       "</div>"
      ],
      "text/plain": [
       "                index  hostres_time_clean\n",
       "0      within an hour            0.422799\n",
       "1  within a few hours            0.352453\n",
       "2        within a day            0.137446\n",
       "3        not recorded            0.079365\n",
       "4  a few days or more            0.007937"
      ]
     },
     "execution_count": 23,
     "metadata": {},
     "output_type": "execute_result"
    }
   ],
   "source": [
    "# Turning count into proportion\n",
    "df_val= pd.DataFrame(df['hostres_time_clean'].value_counts()/df.shape[0]).reset_index()\n",
    "df_val"
   ]
  },
  {
   "cell_type": "code",
   "execution_count": 42,
   "id": "b63e1a77-675a-471c-abb3-2e55f5e07755",
   "metadata": {},
   "outputs": [
    {
     "data": {
      "image/png": "[encoded data removed]",
      "text/plain": [
       "<Figure size 540x360 with 1 Axes>"
      ]
     },
     "metadata": {
      "needs_background": "light"
     },
     "output_type": "display_data"
    }
   ],
   "source": [
    "fig = sns.catplot(x = 'index', y = 'hostres_time_clean', kind = 'bar', palette='coolwarm', height = 5, aspect = 1.5, data = df_val)\n",
    "\n",
    "# Add percentage on top of each bar\n",
    "# Adopted from https://stackoverflow.com/questions/34615854/seaborn-countplot-with-normalized-y-axis-per-group\n",
    "for i in fig.ax.patches:\n",
    "    perc = str((i.get_height()*100).round(2)) + '%'\n",
    "    perc_x = i.get_x() \n",
    "    perc_y = i.get_height()\n",
    "    fig.ax.text(perc_x, perc_y, perc)\n",
    "\n",
    "plt.title('Host Response Time (proportion)')\n",
    "plt.xlabel('Category')\n",
    "plt.ylabel('Proportion')\n",
    "\n",
    "plt.show()"
   ]
  },
  {
   "cell_type": "markdown",
   "id": "f08d5fa2-159b-4986-9808-b8e6d8202613",
   "metadata": {},
   "source": [
    "#### Comment"
   ]
  },
  {
   "cell_type": "markdown",
   "id": "f086daa8-52eb-4ca9-9553-ce4c48841cf0",
   "metadata": {},
   "source": [
    "The above analysis shows that over 40% of the Airbnb hosts response to customers' message within an hour, followed by the category within a few hours which makes up around 35% of the data. From above figures, we can come to the conclusion that the majority of Airbnb hosts tend to reply to customer messages within a couple of hours. This could be a useful reference for new hosts to determine their response schedule."
   ]
  },
  {
   "cell_type": "markdown",
   "id": "6f1859b6-0665-4570-bad8-90f8223e6a79",
   "metadata": {},
   "source": [
    "### Answering Business Question 2"
   ]
  },
  {
   "cell_type": "code",
   "execution_count": 50,
   "id": "ae05cb1f-857f-4f63-8abf-7822caea223b",
   "metadata": {},
   "outputs": [],
   "source": [
    "# Train test split \n",
    "X = df.drop(['review_scores_rating', 'id', 'hostres_time_clean'], axis = 1)\n",
    "y = df['review_scores_rating']\n",
    "\n",
    "X_train, X_test, y_train, y_test = train_test_split(X, y, test_size = 0.3, random_state = 101)"
   ]
  },
  {
   "cell_type": "code",
   "execution_count": 51,
   "id": "a9b4d072-da71-4b7e-981e-3c809bbac29d",
   "metadata": {},
   "outputs": [],
   "source": [
    "# Fit linear model with statsmodels for more information\n",
    "X_train_sm = sm.add_constant(X_train)\n",
    "\n",
    "lm = sm.OLS(y_train.astype(float), X_train_sm.astype(float)).fit()"
   ]
  },
  {
   "cell_type": "code",
   "execution_count": 52,
   "id": "4c616028-1957-4b56-9570-2fa68dbdf06b",
   "metadata": {},
   "outputs": [
    {
     "data": {
      "text/html": [
       "<table class=\"simpletable\">\n",
       "<caption>OLS Regression Results</caption>\n",
       "<tr>\n",
       "  <th>Dep. Variable:</th>    <td>review_scores_rating</td> <th>  R-squared:         </th> <td>   0.062</td> \n",
       "</tr>\n",
       "<tr>\n",
       "  <th>Model:</th>                     <td>OLS</td>         <th>  Adj. R-squared:    </th> <td>   0.058</td> \n",
       "</tr>\n",
       "<tr>\n",
       "  <th>Method:</th>               <td>Least Squares</td>    <th>  F-statistic:       </th> <td>   15.90</td> \n",
       "</tr>\n",
       "<tr>\n",
       "  <th>Date:</th>               <td>Sun, 26 Feb 2023</td>   <th>  Prob (F-statistic):</th> <td>6.75e-23</td> \n",
       "</tr>\n",
       "<tr>\n",
       "  <th>Time:</th>                   <td>18:19:47</td>       <th>  Log-Likelihood:    </th> <td> -7067.3</td> \n",
       "</tr>\n",
       "<tr>\n",
       "  <th>No. Observations:</th>        <td>  1940</td>        <th>  AIC:               </th> <td>1.415e+04</td>\n",
       "</tr>\n",
       "<tr>\n",
       "  <th>Df Residuals:</th>            <td>  1931</td>        <th>  BIC:               </th> <td>1.420e+04</td>\n",
       "</tr>\n",
       "<tr>\n",
       "  <th>Df Model:</th>                <td>     8</td>        <th>                     </th>     <td> </td>    \n",
       "</tr>\n",
       "<tr>\n",
       "  <th>Covariance Type:</th>        <td>nonrobust</td>      <th>                     </th>     <td> </td>    \n",
       "</tr>\n",
       "</table>\n",
       "<table class=\"simpletable\">\n",
       "<tr>\n",
       "                   <td></td>                      <th>coef</th>     <th>std err</th>      <th>t</th>      <th>P>|t|</th>  <th>[0.025</th>    <th>0.975]</th>  \n",
       "</tr>\n",
       "<tr>\n",
       "  <th>const</th>                               <td>   86.4123</td> <td>    2.255</td> <td>   38.317</td> <td> 0.000</td> <td>   81.989</td> <td>   90.835</td>\n",
       "</tr>\n",
       "<tr>\n",
       "  <th>cleaning_fee_clean</th>                  <td>    0.0035</td> <td>    0.005</td> <td>    0.681</td> <td> 0.496</td> <td>   -0.007</td> <td>    0.014</td>\n",
       "</tr>\n",
       "<tr>\n",
       "  <th>host_identity_verified_t</th>            <td>    1.2758</td> <td>    0.509</td> <td>    2.507</td> <td> 0.012</td> <td>    0.278</td> <td>    2.274</td>\n",
       "</tr>\n",
       "<tr>\n",
       "  <th>cancellation_policy_moderate</th>        <td>    0.8140</td> <td>    0.600</td> <td>    1.357</td> <td> 0.175</td> <td>   -0.362</td> <td>    1.990</td>\n",
       "</tr>\n",
       "<tr>\n",
       "  <th>cancellation_policy_strict</th>          <td>   -0.4884</td> <td>    0.560</td> <td>   -0.872</td> <td> 0.383</td> <td>   -1.587</td> <td>    0.610</td>\n",
       "</tr>\n",
       "<tr>\n",
       "  <th>cancellation_policy_super_strict_30</th> <td>   -3.2824</td> <td>    1.462</td> <td>   -2.245</td> <td> 0.025</td> <td>   -6.150</td> <td>   -0.415</td>\n",
       "</tr>\n",
       "<tr>\n",
       "  <th>host_is_superhost_t</th>                 <td>    5.6829</td> <td>    0.620</td> <td>    9.161</td> <td> 0.000</td> <td>    4.466</td> <td>    6.900</td>\n",
       "</tr>\n",
       "<tr>\n",
       "  <th>hostres_rate_clean</th>                  <td>    3.3481</td> <td>    2.104</td> <td>    1.591</td> <td> 0.112</td> <td>   -0.778</td> <td>    7.474</td>\n",
       "</tr>\n",
       "<tr>\n",
       "  <th>hostacp_rate_clean</th>                  <td>    0.5479</td> <td>    1.070</td> <td>    0.512</td> <td> 0.609</td> <td>   -1.551</td> <td>    2.647</td>\n",
       "</tr>\n",
       "</table>\n",
       "<table class=\"simpletable\">\n",
       "<tr>\n",
       "  <th>Omnibus:</th>       <td>1266.608</td> <th>  Durbin-Watson:     </th> <td>   1.999</td> \n",
       "</tr>\n",
       "<tr>\n",
       "  <th>Prob(Omnibus):</th>  <td> 0.000</td>  <th>  Jarque-Bera (JB):  </th> <td>19669.152</td>\n",
       "</tr>\n",
       "<tr>\n",
       "  <th>Skew:</th>           <td>-2.852</td>  <th>  Prob(JB):          </th> <td>    0.00</td> \n",
       "</tr>\n",
       "<tr>\n",
       "  <th>Kurtosis:</th>       <td>17.519</td>  <th>  Cond. No.          </th> <td>1.14e+03</td> \n",
       "</tr>\n",
       "</table><br/><br/>Notes:<br/>[1] Standard Errors assume that the covariance matrix of the errors is correctly specified.<br/>[2] The condition number is large, 1.14e+03. This might indicate that there are<br/>strong multicollinearity or other numerical problems."
      ],
      "text/plain": [
       "<class 'statsmodels.iolib.summary.Summary'>\n",
       "\"\"\"\n",
       "                             OLS Regression Results                             \n",
       "================================================================================\n",
       "Dep. Variable:     review_scores_rating   R-squared:                       0.062\n",
       "Model:                              OLS   Adj. R-squared:                  0.058\n",
       "Method:                   Least Squares   F-statistic:                     15.90\n",
       "Date:                  Sun, 26 Feb 2023   Prob (F-statistic):           6.75e-23\n",
       "Time:                          18:19:47   Log-Likelihood:                -7067.3\n",
       "No. Observations:                  1940   AIC:                         1.415e+04\n",
       "Df Residuals:                      1931   BIC:                         1.420e+04\n",
       "Df Model:                             8                                         \n",
       "Covariance Type:              nonrobust                                         \n",
       "=======================================================================================================\n",
       "                                          coef    std err          t      P>|t|      [0.025      0.975]\n",
       "-------------------------------------------------------------------------------------------------------\n",
       "const                                  86.4123      2.255     38.317      0.000      81.989      90.835\n",
       "cleaning_fee_clean                      0.0035      0.005      0.681      0.496      -0.007       0.014\n",
       "host_identity_verified_t                1.2758      0.509      2.507      0.012       0.278       2.274\n",
       "cancellation_policy_moderate            0.8140      0.600      1.357      0.175      -0.362       1.990\n",
       "cancellation_policy_strict             -0.4884      0.560     -0.872      0.383      -1.587       0.610\n",
       "cancellation_policy_super_strict_30    -3.2824      1.462     -2.245      0.025      -6.150      -0.415\n",
       "host_is_superhost_t                     5.6829      0.620      9.161      0.000       4.466       6.900\n",
       "hostres_rate_clean                      3.3481      2.104      1.591      0.112      -0.778       7.474\n",
       "hostacp_rate_clean                      0.5479      1.070      0.512      0.609      -1.551       2.647\n",
       "==============================================================================\n",
       "Omnibus:                     1266.608   Durbin-Watson:                   1.999\n",
       "Prob(Omnibus):                  0.000   Jarque-Bera (JB):            19669.152\n",
       "Skew:                          -2.852   Prob(JB):                         0.00\n",
       "Kurtosis:                      17.519   Cond. No.                     1.14e+03\n",
       "==============================================================================\n",
       "\n",
       "Notes:\n",
       "[1] Standard Errors assume that the covariance matrix of the errors is correctly specified.\n",
       "[2] The condition number is large, 1.14e+03. This might indicate that there are\n",
       "strong multicollinearity or other numerical problems.\n",
       "\"\"\""
      ]
     },
     "execution_count": 52,
     "metadata": {},
     "output_type": "execute_result"
    }
   ],
   "source": [
    "lm.summary()"
   ]
  },
  {
   "cell_type": "code",
   "execution_count": 53,
   "id": "d2f60e19-9c98-4a0f-bb8e-ac72955f8a49",
   "metadata": {},
   "outputs": [
    {
     "data": {
      "text/html": [
       "<div>\n",
       "<style scoped>\n",
       "    .dataframe tbody tr th:only-of-type {\n",
       "        vertical-align: middle;\n",
       "    }\n",
       "\n",
       "    .dataframe tbody tr th {\n",
       "        vertical-align: top;\n",
       "    }\n",
       "\n",
       "    .dataframe thead th {\n",
       "        text-align: right;\n",
       "    }\n",
       "</style>\n",
       "<table border=\"1\" class=\"dataframe\">\n",
       "  <thead>\n",
       "    <tr style=\"text-align: right;\">\n",
       "      <th></th>\n",
       "      <th>coef</th>\n",
       "      <th>std err</th>\n",
       "      <th>t</th>\n",
       "      <th>P&gt;|t|</th>\n",
       "      <th>[0.025</th>\n",
       "      <th>0.975]</th>\n",
       "    </tr>\n",
       "  </thead>\n",
       "  <tbody>\n",
       "    <tr>\n",
       "      <th>const</th>\n",
       "      <td>86.4123</td>\n",
       "      <td>2.255</td>\n",
       "      <td>38.317</td>\n",
       "      <td>0.000</td>\n",
       "      <td>81.989</td>\n",
       "      <td>90.835</td>\n",
       "    </tr>\n",
       "    <tr>\n",
       "      <th>cleaning_fee_clean</th>\n",
       "      <td>0.0035</td>\n",
       "      <td>0.005</td>\n",
       "      <td>0.681</td>\n",
       "      <td>0.496</td>\n",
       "      <td>-0.007</td>\n",
       "      <td>0.014</td>\n",
       "    </tr>\n",
       "    <tr>\n",
       "      <th>host_identity_verified_t</th>\n",
       "      <td>1.2758</td>\n",
       "      <td>0.509</td>\n",
       "      <td>2.507</td>\n",
       "      <td>0.012</td>\n",
       "      <td>0.278</td>\n",
       "      <td>2.274</td>\n",
       "    </tr>\n",
       "    <tr>\n",
       "      <th>cancellation_policy_moderate</th>\n",
       "      <td>0.8140</td>\n",
       "      <td>0.600</td>\n",
       "      <td>1.357</td>\n",
       "      <td>0.175</td>\n",
       "      <td>-0.362</td>\n",
       "      <td>1.990</td>\n",
       "    </tr>\n",
       "    <tr>\n",
       "      <th>cancellation_policy_strict</th>\n",
       "      <td>-0.4884</td>\n",
       "      <td>0.560</td>\n",
       "      <td>-0.872</td>\n",
       "      <td>0.383</td>\n",
       "      <td>-1.587</td>\n",
       "      <td>0.610</td>\n",
       "    </tr>\n",
       "    <tr>\n",
       "      <th>cancellation_policy_super_strict_30</th>\n",
       "      <td>-3.2824</td>\n",
       "      <td>1.462</td>\n",
       "      <td>-2.245</td>\n",
       "      <td>0.025</td>\n",
       "      <td>-6.150</td>\n",
       "      <td>-0.415</td>\n",
       "    </tr>\n",
       "    <tr>\n",
       "      <th>host_is_superhost_t</th>\n",
       "      <td>5.6829</td>\n",
       "      <td>0.620</td>\n",
       "      <td>9.161</td>\n",
       "      <td>0.000</td>\n",
       "      <td>4.466</td>\n",
       "      <td>6.900</td>\n",
       "    </tr>\n",
       "    <tr>\n",
       "      <th>hostres_rate_clean</th>\n",
       "      <td>3.3481</td>\n",
       "      <td>2.104</td>\n",
       "      <td>1.591</td>\n",
       "      <td>0.112</td>\n",
       "      <td>-0.778</td>\n",
       "      <td>7.474</td>\n",
       "    </tr>\n",
       "    <tr>\n",
       "      <th>hostacp_rate_clean</th>\n",
       "      <td>0.5479</td>\n",
       "      <td>1.070</td>\n",
       "      <td>0.512</td>\n",
       "      <td>0.609</td>\n",
       "      <td>-1.551</td>\n",
       "      <td>2.647</td>\n",
       "    </tr>\n",
       "  </tbody>\n",
       "</table>\n",
       "</div>"
      ],
      "text/plain": [
       "                                        coef  std err       t  P>|t|  [0.025  \\\n",
       "const                                86.4123    2.255  38.317  0.000  81.989   \n",
       "cleaning_fee_clean                    0.0035    0.005   0.681  0.496  -0.007   \n",
       "host_identity_verified_t              1.2758    0.509   2.507  0.012   0.278   \n",
       "cancellation_policy_moderate          0.8140    0.600   1.357  0.175  -0.362   \n",
       "cancellation_policy_strict           -0.4884    0.560  -0.872  0.383  -1.587   \n",
       "cancellation_policy_super_strict_30  -3.2824    1.462  -2.245  0.025  -6.150   \n",
       "host_is_superhost_t                   5.6829    0.620   9.161  0.000   4.466   \n",
       "hostres_rate_clean                    3.3481    2.104   1.591  0.112  -0.778   \n",
       "hostacp_rate_clean                    0.5479    1.070   0.512  0.609  -1.551   \n",
       "\n",
       "                                     0.975]  \n",
       "const                                90.835  \n",
       "cleaning_fee_clean                    0.014  \n",
       "host_identity_verified_t              2.274  \n",
       "cancellation_policy_moderate          1.990  \n",
       "cancellation_policy_strict            0.610  \n",
       "cancellation_policy_super_strict_30  -0.415  \n",
       "host_is_superhost_t                   6.900  \n",
       "hostres_rate_clean                    7.474  \n",
       "hostacp_rate_clean                    2.647  "
      ]
     },
     "execution_count": 53,
     "metadata": {},
     "output_type": "execute_result"
    }
   ],
   "source": [
    "# Converting statsmodel summary table into pandas dataframe\n",
    "# Adopted from https://stackoverflow.com/questions/47388258/how-to-extract-the-regression-coefficient-from-statsmodels-api\n",
    "results_lm = pd.read_html(lm.summary().tables[1].as_html(),header=0,index_col=0)[0]\n",
    "results_lm"
   ]
  },
  {
   "cell_type": "code",
   "execution_count": 54,
   "id": "d931d327-6f1a-4cc9-8357-9e6d88c47490",
   "metadata": {},
   "outputs": [],
   "source": [
    "# Extracting coefficient and p_values from statsmodel results and remove 'constant' row\n",
    "results = results_lm.loc[:, ['coef', 'P>|t|']].iloc[1:]\n",
    "results = results.rename(columns = {'coef': 'coefficient_statsmodel', 'P>|t|': 'p-value'})"
   ]
  },
  {
   "cell_type": "code",
   "execution_count": 55,
   "id": "3dd34202-b86a-4580-bdf1-a8ad8fd61d69",
   "metadata": {},
   "outputs": [
    {
     "name": "stderr",
     "output_type": "stream",
     "text": [
      "C:\\Users\\Jessi\\anaconda3\\lib\\site-packages\\sklearn\\linear_model\\_base.py:141: FutureWarning: 'normalize' was deprecated in version 1.0 and will be removed in 1.2.\n",
      "If you wish to scale the data, use Pipeline with a StandardScaler in a preprocessing stage. To reproduce the previous behavior:\n",
      "\n",
      "from sklearn.pipeline import make_pipeline\n",
      "\n",
      "model = make_pipeline(StandardScaler(with_mean=False), LinearRegression())\n",
      "\n",
      "If you wish to pass a sample_weight parameter, you need to pass it as a fit parameter to each step of the pipeline as follows:\n",
      "\n",
      "kwargs = {s[0] + '__sample_weight': sample_weight for s in model.steps}\n",
      "model.fit(X, y, **kwargs)\n",
      "\n",
      "\n",
      "  warnings.warn(\n"
     ]
    },
    {
     "data": {
      "text/plain": [
       "LinearRegression(normalize=True)"
      ]
     },
     "execution_count": 55,
     "metadata": {},
     "output_type": "execute_result"
    }
   ],
   "source": [
    "# Fitting the model again with sklearn to predict on test set\n",
    "lm_sk = LinearRegression(normalize = True)\n",
    "lm_sk.fit(X_train, y_train)"
   ]
  },
  {
   "cell_type": "code",
   "execution_count": 56,
   "id": "26ef2230-4971-46e2-a4df-db14bb370515",
   "metadata": {},
   "outputs": [
    {
     "data": {
      "text/html": [
       "<div>\n",
       "<style scoped>\n",
       "    .dataframe tbody tr th:only-of-type {\n",
       "        vertical-align: middle;\n",
       "    }\n",
       "\n",
       "    .dataframe tbody tr th {\n",
       "        vertical-align: top;\n",
       "    }\n",
       "\n",
       "    .dataframe thead th {\n",
       "        text-align: right;\n",
       "    }\n",
       "</style>\n",
       "<table border=\"1\" class=\"dataframe\">\n",
       "  <thead>\n",
       "    <tr style=\"text-align: right;\">\n",
       "      <th></th>\n",
       "      <th>coefficient_statsmodel</th>\n",
       "      <th>p-value</th>\n",
       "      <th>coefficient_sklearn</th>\n",
       "    </tr>\n",
       "  </thead>\n",
       "  <tbody>\n",
       "    <tr>\n",
       "      <th>cleaning_fee_clean</th>\n",
       "      <td>0.0035</td>\n",
       "      <td>0.496</td>\n",
       "      <td>0.003488</td>\n",
       "    </tr>\n",
       "    <tr>\n",
       "      <th>host_identity_verified_t</th>\n",
       "      <td>1.2758</td>\n",
       "      <td>0.012</td>\n",
       "      <td>1.275785</td>\n",
       "    </tr>\n",
       "    <tr>\n",
       "      <th>cancellation_policy_moderate</th>\n",
       "      <td>0.8140</td>\n",
       "      <td>0.175</td>\n",
       "      <td>0.814031</td>\n",
       "    </tr>\n",
       "    <tr>\n",
       "      <th>cancellation_policy_strict</th>\n",
       "      <td>-0.4884</td>\n",
       "      <td>0.383</td>\n",
       "      <td>-0.488354</td>\n",
       "    </tr>\n",
       "    <tr>\n",
       "      <th>cancellation_policy_super_strict_30</th>\n",
       "      <td>-3.2824</td>\n",
       "      <td>0.025</td>\n",
       "      <td>-3.282378</td>\n",
       "    </tr>\n",
       "    <tr>\n",
       "      <th>host_is_superhost_t</th>\n",
       "      <td>5.6829</td>\n",
       "      <td>0.000</td>\n",
       "      <td>5.682934</td>\n",
       "    </tr>\n",
       "    <tr>\n",
       "      <th>hostres_rate_clean</th>\n",
       "      <td>3.3481</td>\n",
       "      <td>0.112</td>\n",
       "      <td>3.348099</td>\n",
       "    </tr>\n",
       "    <tr>\n",
       "      <th>hostacp_rate_clean</th>\n",
       "      <td>0.5479</td>\n",
       "      <td>0.609</td>\n",
       "      <td>0.547918</td>\n",
       "    </tr>\n",
       "  </tbody>\n",
       "</table>\n",
       "</div>"
      ],
      "text/plain": [
       "                                     coefficient_statsmodel  p-value  \\\n",
       "cleaning_fee_clean                                   0.0035    0.496   \n",
       "host_identity_verified_t                             1.2758    0.012   \n",
       "cancellation_policy_moderate                         0.8140    0.175   \n",
       "cancellation_policy_strict                          -0.4884    0.383   \n",
       "cancellation_policy_super_strict_30                 -3.2824    0.025   \n",
       "host_is_superhost_t                                  5.6829    0.000   \n",
       "hostres_rate_clean                                   3.3481    0.112   \n",
       "hostacp_rate_clean                                   0.5479    0.609   \n",
       "\n",
       "                                     coefficient_sklearn  \n",
       "cleaning_fee_clean                              0.003488  \n",
       "host_identity_verified_t                        1.275785  \n",
       "cancellation_policy_moderate                    0.814031  \n",
       "cancellation_policy_strict                     -0.488354  \n",
       "cancellation_policy_super_strict_30            -3.282378  \n",
       "host_is_superhost_t                             5.682934  \n",
       "hostres_rate_clean                              3.348099  \n",
       "hostacp_rate_clean                              0.547918  "
      ]
     },
     "execution_count": 56,
     "metadata": {},
     "output_type": "execute_result"
    }
   ],
   "source": [
    "# Converting sklearn linear regression results to dataframe and compare with statsmodels\n",
    "results['coefficient_sklearn'] = lm_sk.coef_\n",
    "results"
   ]
  },
  {
   "cell_type": "code",
   "execution_count": 57,
   "id": "3b1b66d5-9eeb-4ff2-8a67-54a03de3516a",
   "metadata": {},
   "outputs": [],
   "source": [
    "# Coloring variables whose effect is statistically significant (level of significance at 0.05) into red\n",
    "def color_significant_red(val):\n",
    "    \"\"\"\n",
    "    Takes a scalar and returns a string with a red color for negative strings, otherwise remains black.\n",
    "    \"\"\"\n",
    "    if val < 0.05:\n",
    "        color = 'red'  \n",
    "    else: \n",
    "        color = 'black'\n",
    "    return 'color: %s' % color"
   ]
  },
  {
   "cell_type": "code",
   "execution_count": 58,
   "id": "d91a0cf5-6bc0-4513-aed4-da031b9872f8",
   "metadata": {},
   "outputs": [
    {
     "data": {
      "text/html": [
       "<style type=\"text/css\">\n",
       "#T_279e1_row0_col1, #T_279e1_row2_col1, #T_279e1_row3_col1, #T_279e1_row6_col1, #T_279e1_row7_col1 {\n",
       "  color: black;\n",
       "}\n",
       "#T_279e1_row1_col1, #T_279e1_row4_col1, #T_279e1_row5_col1 {\n",
       "  color: red;\n",
       "}\n",
       "</style>\n",
       "<table id=\"T_279e1\">\n",
       "  <thead>\n",
       "    <tr>\n",
       "      <th class=\"blank level0\" >&nbsp;</th>\n",
       "      <th id=\"T_279e1_level0_col0\" class=\"col_heading level0 col0\" >coefficient_statsmodel</th>\n",
       "      <th id=\"T_279e1_level0_col1\" class=\"col_heading level0 col1\" >p-value</th>\n",
       "      <th id=\"T_279e1_level0_col2\" class=\"col_heading level0 col2\" >coefficient_sklearn</th>\n",
       "    </tr>\n",
       "  </thead>\n",
       "  <tbody>\n",
       "    <tr>\n",
       "      <th id=\"T_279e1_level0_row0\" class=\"row_heading level0 row0\" >cleaning_fee_clean</th>\n",
       "      <td id=\"T_279e1_row0_col0\" class=\"data row0 col0\" >0.003500</td>\n",
       "      <td id=\"T_279e1_row0_col1\" class=\"data row0 col1\" >0.496000</td>\n",
       "      <td id=\"T_279e1_row0_col2\" class=\"data row0 col2\" >0.003488</td>\n",
       "    </tr>\n",
       "    <tr>\n",
       "      <th id=\"T_279e1_level0_row1\" class=\"row_heading level0 row1\" >host_identity_verified_t</th>\n",
       "      <td id=\"T_279e1_row1_col0\" class=\"data row1 col0\" >1.275800</td>\n",
       "      <td id=\"T_279e1_row1_col1\" class=\"data row1 col1\" >0.012000</td>\n",
       "      <td id=\"T_279e1_row1_col2\" class=\"data row1 col2\" >1.275785</td>\n",
       "    </tr>\n",
       "    <tr>\n",
       "      <th id=\"T_279e1_level0_row2\" class=\"row_heading level0 row2\" >cancellation_policy_moderate</th>\n",
       "      <td id=\"T_279e1_row2_col0\" class=\"data row2 col0\" >0.814000</td>\n",
       "      <td id=\"T_279e1_row2_col1\" class=\"data row2 col1\" >0.175000</td>\n",
       "      <td id=\"T_279e1_row2_col2\" class=\"data row2 col2\" >0.814031</td>\n",
       "    </tr>\n",
       "    <tr>\n",
       "      <th id=\"T_279e1_level0_row3\" class=\"row_heading level0 row3\" >cancellation_policy_strict</th>\n",
       "      <td id=\"T_279e1_row3_col0\" class=\"data row3 col0\" >-0.488400</td>\n",
       "      <td id=\"T_279e1_row3_col1\" class=\"data row3 col1\" >0.383000</td>\n",
       "      <td id=\"T_279e1_row3_col2\" class=\"data row3 col2\" >-0.488354</td>\n",
       "    </tr>\n",
       "    <tr>\n",
       "      <th id=\"T_279e1_level0_row4\" class=\"row_heading level0 row4\" >cancellation_policy_super_strict_30</th>\n",
       "      <td id=\"T_279e1_row4_col0\" class=\"data row4 col0\" >-3.282400</td>\n",
       "      <td id=\"T_279e1_row4_col1\" class=\"data row4 col1\" >0.025000</td>\n",
       "      <td id=\"T_279e1_row4_col2\" class=\"data row4 col2\" >-3.282378</td>\n",
       "    </tr>\n",
       "    <tr>\n",
       "      <th id=\"T_279e1_level0_row5\" class=\"row_heading level0 row5\" >host_is_superhost_t</th>\n",
       "      <td id=\"T_279e1_row5_col0\" class=\"data row5 col0\" >5.682900</td>\n",
       "      <td id=\"T_279e1_row5_col1\" class=\"data row5 col1\" >0.000000</td>\n",
       "      <td id=\"T_279e1_row5_col2\" class=\"data row5 col2\" >5.682934</td>\n",
       "    </tr>\n",
       "    <tr>\n",
       "      <th id=\"T_279e1_level0_row6\" class=\"row_heading level0 row6\" >hostres_rate_clean</th>\n",
       "      <td id=\"T_279e1_row6_col0\" class=\"data row6 col0\" >3.348100</td>\n",
       "      <td id=\"T_279e1_row6_col1\" class=\"data row6 col1\" >0.112000</td>\n",
       "      <td id=\"T_279e1_row6_col2\" class=\"data row6 col2\" >3.348099</td>\n",
       "    </tr>\n",
       "    <tr>\n",
       "      <th id=\"T_279e1_level0_row7\" class=\"row_heading level0 row7\" >hostacp_rate_clean</th>\n",
       "      <td id=\"T_279e1_row7_col0\" class=\"data row7 col0\" >0.547900</td>\n",
       "      <td id=\"T_279e1_row7_col1\" class=\"data row7 col1\" >0.609000</td>\n",
       "      <td id=\"T_279e1_row7_col2\" class=\"data row7 col2\" >0.547918</td>\n",
       "    </tr>\n",
       "  </tbody>\n",
       "</table>\n"
      ],
      "text/plain": [
       "<pandas.io.formats.style.Styler at 0x2056bccfdf0>"
      ]
     },
     "execution_count": 58,
     "metadata": {},
     "output_type": "execute_result"
    }
   ],
   "source": [
    "# Displaying results table with significant variables highlighted\n",
    "results.style.applymap(color_significant_red, subset = ['p-value'])"
   ]
  },
  {
   "cell_type": "code",
   "execution_count": 59,
   "id": "3ce375dd-b60a-4529-aa35-6ea25d6652c4",
   "metadata": {},
   "outputs": [
    {
     "data": {
      "text/html": [
       "<style type=\"text/css\">\n",
       "#T_b3a74_row0_col1, #T_b3a74_row2_col1, #T_b3a74_row3_col1, #T_b3a74_row6_col1, #T_b3a74_row7_col1 {\n",
       "  color: black;\n",
       "}\n",
       "#T_b3a74_row0_col2 {\n",
       "  width: 10em;\n",
       "  background: linear-gradient(90deg, transparent 36.6%, #5fba7d 36.6%, #5fba7d 36.7%, transparent 36.7%);\n",
       "}\n",
       "#T_b3a74_row1_col1, #T_b3a74_row4_col1, #T_b3a74_row5_col1 {\n",
       "  color: red;\n",
       "}\n",
       "#T_b3a74_row1_col2 {\n",
       "  width: 10em;\n",
       "  background: linear-gradient(90deg, transparent 36.6%, #5fba7d 36.6%, #5fba7d 50.8%, transparent 50.8%);\n",
       "}\n",
       "#T_b3a74_row2_col2 {\n",
       "  width: 10em;\n",
       "  background: linear-gradient(90deg, transparent 36.6%, #5fba7d 36.6%, #5fba7d 45.7%, transparent 45.7%);\n",
       "}\n",
       "#T_b3a74_row3_col2 {\n",
       "  width: 10em;\n",
       "  background: linear-gradient(90deg, transparent 31.2%, #d65f5f 31.2%, #d65f5f 36.6%, transparent 36.6%);\n",
       "}\n",
       "#T_b3a74_row4_col2 {\n",
       "  width: 10em;\n",
       "  background: linear-gradient(90deg, #d65f5f 36.6%, transparent 36.6%);\n",
       "}\n",
       "#T_b3a74_row5_col2 {\n",
       "  width: 10em;\n",
       "  background: linear-gradient(90deg, transparent 36.6%, #5fba7d 36.6%, #5fba7d 100.0%, transparent 100.0%);\n",
       "}\n",
       "#T_b3a74_row6_col2 {\n",
       "  width: 10em;\n",
       "  background: linear-gradient(90deg, transparent 36.6%, #5fba7d 36.6%, #5fba7d 74.0%, transparent 74.0%);\n",
       "}\n",
       "#T_b3a74_row7_col2 {\n",
       "  width: 10em;\n",
       "  background: linear-gradient(90deg, transparent 36.6%, #5fba7d 36.6%, #5fba7d 42.7%, transparent 42.7%);\n",
       "}\n",
       "</style>\n",
       "<table id=\"T_b3a74\">\n",
       "  <thead>\n",
       "    <tr>\n",
       "      <th class=\"blank level0\" >&nbsp;</th>\n",
       "      <th id=\"T_b3a74_level0_col0\" class=\"col_heading level0 col0\" >coefficient_statsmodel</th>\n",
       "      <th id=\"T_b3a74_level0_col1\" class=\"col_heading level0 col1\" >p-value</th>\n",
       "      <th id=\"T_b3a74_level0_col2\" class=\"col_heading level0 col2\" >coefficient_sklearn</th>\n",
       "    </tr>\n",
       "  </thead>\n",
       "  <tbody>\n",
       "    <tr>\n",
       "      <th id=\"T_b3a74_level0_row0\" class=\"row_heading level0 row0\" >cleaning_fee_clean</th>\n",
       "      <td id=\"T_b3a74_row0_col0\" class=\"data row0 col0\" >0.003500</td>\n",
       "      <td id=\"T_b3a74_row0_col1\" class=\"data row0 col1\" >0.496000</td>\n",
       "      <td id=\"T_b3a74_row0_col2\" class=\"data row0 col2\" >0.003488</td>\n",
       "    </tr>\n",
       "    <tr>\n",
       "      <th id=\"T_b3a74_level0_row1\" class=\"row_heading level0 row1\" >host_identity_verified_t</th>\n",
       "      <td id=\"T_b3a74_row1_col0\" class=\"data row1 col0\" >1.275800</td>\n",
       "      <td id=\"T_b3a74_row1_col1\" class=\"data row1 col1\" >0.012000</td>\n",
       "      <td id=\"T_b3a74_row1_col2\" class=\"data row1 col2\" >1.275785</td>\n",
       "    </tr>\n",
       "    <tr>\n",
       "      <th id=\"T_b3a74_level0_row2\" class=\"row_heading level0 row2\" >cancellation_policy_moderate</th>\n",
       "      <td id=\"T_b3a74_row2_col0\" class=\"data row2 col0\" >0.814000</td>\n",
       "      <td id=\"T_b3a74_row2_col1\" class=\"data row2 col1\" >0.175000</td>\n",
       "      <td id=\"T_b3a74_row2_col2\" class=\"data row2 col2\" >0.814031</td>\n",
       "    </tr>\n",
       "    <tr>\n",
       "      <th id=\"T_b3a74_level0_row3\" class=\"row_heading level0 row3\" >cancellation_policy_strict</th>\n",
       "      <td id=\"T_b3a74_row3_col0\" class=\"data row3 col0\" >-0.488400</td>\n",
       "      <td id=\"T_b3a74_row3_col1\" class=\"data row3 col1\" >0.383000</td>\n",
       "      <td id=\"T_b3a74_row3_col2\" class=\"data row3 col2\" >-0.488354</td>\n",
       "    </tr>\n",
       "    <tr>\n",
       "      <th id=\"T_b3a74_level0_row4\" class=\"row_heading level0 row4\" >cancellation_policy_super_strict_30</th>\n",
       "      <td id=\"T_b3a74_row4_col0\" class=\"data row4 col0\" >-3.282400</td>\n",
       "      <td id=\"T_b3a74_row4_col1\" class=\"data row4 col1\" >0.025000</td>\n",
       "      <td id=\"T_b3a74_row4_col2\" class=\"data row4 col2\" >-3.282378</td>\n",
       "    </tr>\n",
       "    <tr>\n",
       "      <th id=\"T_b3a74_level0_row5\" class=\"row_heading level0 row5\" >host_is_superhost_t</th>\n",
       "      <td id=\"T_b3a74_row5_col0\" class=\"data row5 col0\" >5.682900</td>\n",
       "      <td id=\"T_b3a74_row5_col1\" class=\"data row5 col1\" >0.000000</td>\n",
       "      <td id=\"T_b3a74_row5_col2\" class=\"data row5 col2\" >5.682934</td>\n",
       "    </tr>\n",
       "    <tr>\n",
       "      <th id=\"T_b3a74_level0_row6\" class=\"row_heading level0 row6\" >hostres_rate_clean</th>\n",
       "      <td id=\"T_b3a74_row6_col0\" class=\"data row6 col0\" >3.348100</td>\n",
       "      <td id=\"T_b3a74_row6_col1\" class=\"data row6 col1\" >0.112000</td>\n",
       "      <td id=\"T_b3a74_row6_col2\" class=\"data row6 col2\" >3.348099</td>\n",
       "    </tr>\n",
       "    <tr>\n",
       "      <th id=\"T_b3a74_level0_row7\" class=\"row_heading level0 row7\" >hostacp_rate_clean</th>\n",
       "      <td id=\"T_b3a74_row7_col0\" class=\"data row7 col0\" >0.547900</td>\n",
       "      <td id=\"T_b3a74_row7_col1\" class=\"data row7 col1\" >0.609000</td>\n",
       "      <td id=\"T_b3a74_row7_col2\" class=\"data row7 col2\" >0.547918</td>\n",
       "    </tr>\n",
       "  </tbody>\n",
       "</table>\n"
      ],
      "text/plain": [
       "<pandas.io.formats.style.Styler at 0x2056bdc2d90>"
      ]
     },
     "execution_count": 59,
     "metadata": {},
     "output_type": "execute_result"
    }
   ],
   "source": [
    "results.style.applymap(color_significant_red, subset = ['p-value']).bar(subset=['coefficient_sklearn'], align='mid', color=['#d65f5f', '#5fba7d'])"
   ]
  },
  {
   "cell_type": "code",
   "execution_count": 60,
   "id": "200db0ce-7b0b-414b-8460-135cced9f26b",
   "metadata": {},
   "outputs": [],
   "source": [
    "# Predicting on test set\n",
    "y_pred_train = lm_sk.predict(X_train)\n",
    "y_pred = lm_sk.predict(X_test)"
   ]
  },
  {
   "cell_type": "code",
   "execution_count": 61,
   "id": "d58414ef-7ab9-46bd-ba8a-d43841d79425",
   "metadata": {},
   "outputs": [
    {
     "name": "stdout",
     "output_type": "stream",
     "text": [
      "RMSE: 9.279970955306808\n",
      "Train R2 0.0617867423085533\n",
      "Test R2 0.04472660832505859\n"
     ]
    }
   ],
   "source": [
    "# Calculating Regression Evaluation Metrics\n",
    "print('RMSE:', np.sqrt(mean_squared_error(y_test, y_pred)))\n",
    "print('Train R2', r2_score(y_train, y_pred_train))\n",
    "print('Test R2', r2_score(y_test, y_pred))"
   ]
  },
  {
   "cell_type": "markdown",
   "id": "c95ccc62-dac3-464f-a1b1-7524384f452d",
   "metadata": {},
   "source": [
    "#### Comment"
   ]
  },
  {
   "cell_type": "markdown",
   "id": "b8ee01e5-61e8-4a4f-9a5c-028449b2867e",
   "metadata": {},
   "source": [
    "##### Explaining model building strategy"
   ]
  },
  {
   "cell_type": "markdown",
   "id": "cdbc0612-4aed-4328-9619-237b83eef54b",
   "metadata": {},
   "source": [
    "To determine factors that may influence the rating score of a listing, linear regression model is used as the dependent variable 'review_scores_rating' is a continous variable. We used linear regression function from both statsmodel and sklearn packages as they provide us different informations. Coefficients from both methods are compared and determined to be the same. P-value from statsmodel is then used to determine whether the effect of our predictors are statistically significant. Lastly, r-squared score for both train and test dataset and root mean squred error are calculated for model performance evaluation."
   ]
  },
  {
   "cell_type": "markdown",
   "id": "f9a04e37-c04b-44bc-af4f-180f47accc02",
   "metadata": {},
   "source": [
    "##### Explaining the results and answer question 2"
   ]
  },
  {
   "cell_type": "markdown",
   "id": "59c8f63e-9c6e-4fcb-9d52-43f0c51fe6e0",
   "metadata": {},
   "source": [
    "Firstly, let's have a look at our model results. From p-value column, we can deduce that cleaning fee, host response rate and host acceptance rate have no significant effect over the review rating score of a listing at significance level p=0.05. For categorical variable 'cancellation policy', only the effect of subcategory 'super_strict_30' is statistically significant. Moreover, whether a host is superhost also have meaningful impact on review rating score of a listing.\n",
    "\n",
    "Now, let's focus on our predictors whose impact is statistically significant and explore more. From the coefficient column and the colored bar, we can see that the whether a host is superhost shows strongest effect on review rating score over other factors. A superhost on average has the a higher rating score by 5.68 units than those who are not. The second strongest predictor is the subcategory 'super_strict_30' for cancellation policy. For listings that has super strict cancellation policy, the review rating score is 3.28 unit lower on average compared to a flexible cancellation policy. Lastly, our third strongest predictor is whether the identity of the host has been verified. For listings that host identity has been verified, the review rating score is on average 1.28 unit higher than those host identity not verified.\n",
    "\n",
    "Thus, we have the anwser to our business question 2. The top three factors affecting review rating score of a listing are: whether the host is a superhost, cancellation policy of the listing and whether the host identity has been verified."
   ]
  },
  {
   "cell_type": "markdown",
   "id": "4f973680-1a84-48c4-bb4b-c27f90833585",
   "metadata": {},
   "source": [
    "##### Explaining model performance"
   ]
  },
  {
   "cell_type": "markdown",
   "id": "33a5deec-46b2-4140-857b-9cd4f007b949",
   "metadata": {},
   "source": [
    "The adjusted r-sqaured score of 0.058 suggests that our model has explained only 5.8% of the variance in review rating score, far from ideal. Comparing adjusted r2 and r2 for training set, we could discover that adjusted r2 is slightly smaller than normal r2. This is because adjusted r2 takes model complexity into account and punished the model if a independent variable does not improve the model. As for the comparison of model performance on training set and testing set, the r2 score for testset is about 0.02 smaller than the r2 score for trainset. This implies that the model performs slighly worse on testset.\n",
    "\n",
    "Furthermore, let's look at the root mean squared error. Our model has a root mean squared error of 9.28. This suggests that The average of squared differences between the predicted rating score and actual rating score is 9.28 units. As a smaller root mean squared error is desired, our model still has room for improvement.\n",
    "\n",
    "To conclude, our linear model performs relatively similar between training set and testing set. However, the model is far from ideal and requires improvement. The small adjusted r2 score suggested other independ variable could be added to explain more variance in review rating score. Moreover, a PCA could be implemented on all aspect of the reivew_score(value, rating and so on) and create a aggregated review_score dependent variable."
   ]
  },
  {
   "cell_type": "markdown",
   "id": "b8b088ce-3cde-4a05-9f0b-356aae6b6585",
   "metadata": {},
   "source": [
    "### Anwsering Business Question 3"
   ]
  },
  {
   "cell_type": "markdown",
   "id": "3fe3ce93-faec-487b-a1b6-353b6bf7c83a",
   "metadata": {},
   "source": [
    "#### Text Pre-processing"
   ]
  },
  {
   "cell_type": "code",
   "execution_count": 47,
   "id": "9ad83951-3bae-4958-a486-8d8e06b74615",
   "metadata": {},
   "outputs": [],
   "source": [
    "# Setting up non-english words corpus and pos tag dictionary\n",
    "words = set(nltk.corpus.words.words())\n",
    "pos_dict = {'J':wordnet.ADJ, 'V':wordnet.VERB, 'N':wordnet.NOUN, 'R':wordnet.ADV}"
   ]
  },
  {
   "cell_type": "code",
   "execution_count": 48,
   "id": "ba8e7199-e304-4176-9bd3-5da397223d95",
   "metadata": {},
   "outputs": [],
   "source": [
    "# Pre-processing text - cleaning the text\n",
    "def clean(corpus):\n",
    "    # Transform all letter to lower cases, remove punctuation, potential URL and potential email address\n",
    "    corpus = corpus.lower()\n",
    "    # Adopted from https://monkeylearn.com/blog/text-cleaning/\n",
    "    corpus = re.sub(r\"(@\\[A-Za-z0-9]+)|([^0-9A-Za-z \\t])|(\\w+:\\/\\/\\S+)|^rt|http.+?\", \"\", corpus)\n",
    "    \n",
    "    # Tockenise corpus and add pos tag\n",
    "    Tag = nltk.pos_tag(word_tokenize(corpus))\n",
    "    \n",
    "    # Removing all non-english words and common English stopwords\n",
    "    # Partially adopted from https://www.analyticsvidhya.com/blog/2021/06/rule-based-sentiment-analysis-in-python/\n",
    "    new_corpus = []\n",
    "    for word, tag in Tag:\n",
    "        if word not in words or not word.isalpha():\n",
    "            if word not in stopwords.words('English'):\n",
    "                new_corpus.append(tuple([word, pos_dict.get(tag[0])])) \n",
    "    return new_corpus"
   ]
  },
  {
   "cell_type": "code",
   "execution_count": 49,
   "id": "8fee6b35-f554-45cc-97e1-aadcd43a74d2",
   "metadata": {},
   "outputs": [
    {
     "name": "stdout",
     "output_type": "stream",
     "text": [
      "<class 'pandas.core.frame.DataFrame'>\n",
      "Int64Index: 34111 entries, 36033 to 561\n",
      "Data columns (total 7 columns):\n",
      " #   Column         Non-Null Count  Dtype         \n",
      "---  ------         --------------  -----         \n",
      " 0   listing_id     34111 non-null  int64         \n",
      " 1   id             34111 non-null  int64         \n",
      " 2   date           34111 non-null  datetime64[ns]\n",
      " 3   reviewer_id    34111 non-null  int64         \n",
      " 4   reviewer_name  34111 non-null  object        \n",
      " 5   comments       34111 non-null  object        \n",
      " 6   month          34111 non-null  object        \n",
      "dtypes: datetime64[ns](1), int64(3), object(3)\n",
      "memory usage: 2.1+ MB\n"
     ]
    }
   ],
   "source": [
    "# Sampling from review dataset as the original dataset is too large and requires too much computational power\n",
    "bos_rev_sample = bos_rev.sample(frac = 0.5, random_state = 2)\n",
    "bos_rev_sample.info()"
   ]
  },
  {
   "cell_type": "code",
   "execution_count": 50,
   "id": "4734aacd-8dfa-4de6-ab95-8342117f69b4",
   "metadata": {},
   "outputs": [
    {
     "data": {
      "text/html": [
       "<div>\n",
       "<style scoped>\n",
       "    .dataframe tbody tr th:only-of-type {\n",
       "        vertical-align: middle;\n",
       "    }\n",
       "\n",
       "    .dataframe tbody tr th {\n",
       "        vertical-align: top;\n",
       "    }\n",
       "\n",
       "    .dataframe thead th {\n",
       "        text-align: right;\n",
       "    }\n",
       "</style>\n",
       "<table border=\"1\" class=\"dataframe\">\n",
       "  <thead>\n",
       "    <tr style=\"text-align: right;\">\n",
       "      <th></th>\n",
       "      <th>listing_id</th>\n",
       "      <th>id</th>\n",
       "      <th>date</th>\n",
       "      <th>reviewer_id</th>\n",
       "      <th>reviewer_name</th>\n",
       "      <th>comments</th>\n",
       "      <th>month</th>\n",
       "    </tr>\n",
       "  </thead>\n",
       "  <tbody>\n",
       "    <tr>\n",
       "      <th>36033</th>\n",
       "      <td>8923817</td>\n",
       "      <td>64237120</td>\n",
       "      <td>2016-03-01</td>\n",
       "      <td>2300637</td>\n",
       "      <td>Robert</td>\n",
       "      <td>I could not imagine staying in a more beautifu...</td>\n",
       "      <td>March</td>\n",
       "    </tr>\n",
       "    <tr>\n",
       "      <th>38754</th>\n",
       "      <td>2295530</td>\n",
       "      <td>47476446</td>\n",
       "      <td>2015-09-19</td>\n",
       "      <td>39134213</td>\n",
       "      <td>Rik</td>\n",
       "      <td>Alicia and Kostas were fabulous hosts. They co...</td>\n",
       "      <td>September</td>\n",
       "    </tr>\n",
       "    <tr>\n",
       "      <th>62950</th>\n",
       "      <td>1472520</td>\n",
       "      <td>19030591</td>\n",
       "      <td>2014-09-05</td>\n",
       "      <td>15858786</td>\n",
       "      <td>Janina</td>\n",
       "      <td>La habitación era exactamente como se describí...</td>\n",
       "      <td>September</td>\n",
       "    </tr>\n",
       "    <tr>\n",
       "      <th>9553</th>\n",
       "      <td>4526315</td>\n",
       "      <td>24540514</td>\n",
       "      <td>2014-12-30</td>\n",
       "      <td>4811894</td>\n",
       "      <td>Jalin</td>\n",
       "      <td>Jared was a very welcoming and attentive host....</td>\n",
       "      <td>December</td>\n",
       "    </tr>\n",
       "    <tr>\n",
       "      <th>14382</th>\n",
       "      <td>5086521</td>\n",
       "      <td>78229235</td>\n",
       "      <td>2016-06-05</td>\n",
       "      <td>52947962</td>\n",
       "      <td>Asha</td>\n",
       "      <td>Ryan was a great host and his place is just as...</td>\n",
       "      <td>June</td>\n",
       "    </tr>\n",
       "  </tbody>\n",
       "</table>\n",
       "</div>"
      ],
      "text/plain": [
       "       listing_id        id       date  reviewer_id reviewer_name  \\\n",
       "36033     8923817  64237120 2016-03-01      2300637        Robert   \n",
       "38754     2295530  47476446 2015-09-19     39134213           Rik   \n",
       "62950     1472520  19030591 2014-09-05     15858786        Janina   \n",
       "9553      4526315  24540514 2014-12-30      4811894         Jalin   \n",
       "14382     5086521  78229235 2016-06-05     52947962          Asha   \n",
       "\n",
       "                                                comments      month  \n",
       "36033  I could not imagine staying in a more beautifu...      March  \n",
       "38754  Alicia and Kostas were fabulous hosts. They co...  September  \n",
       "62950  La habitación era exactamente como se describí...  September  \n",
       "9553   Jared was a very welcoming and attentive host....   December  \n",
       "14382  Ryan was a great host and his place is just as...       June  "
      ]
     },
     "execution_count": 50,
     "metadata": {},
     "output_type": "execute_result"
    }
   ],
   "source": [
    "bos_rev_sample.head()"
   ]
  },
  {
   "cell_type": "code",
   "execution_count": 51,
   "id": "ca9e8da1-e748-47cf-b881-f65d8ca0fa5d",
   "metadata": {},
   "outputs": [],
   "source": [
    "bos_rev_sample['comment_cleaned'] = bos_rev_sample['comments'].apply(clean)"
   ]
  },
  {
   "cell_type": "code",
   "execution_count": 52,
   "id": "cd4ae739-1034-40de-9cea-2fb59b03066b",
   "metadata": {},
   "outputs": [
    {
     "data": {
      "text/html": [
       "<div>\n",
       "<style scoped>\n",
       "    .dataframe tbody tr th:only-of-type {\n",
       "        vertical-align: middle;\n",
       "    }\n",
       "\n",
       "    .dataframe tbody tr th {\n",
       "        vertical-align: top;\n",
       "    }\n",
       "\n",
       "    .dataframe thead th {\n",
       "        text-align: right;\n",
       "    }\n",
       "</style>\n",
       "<table border=\"1\" class=\"dataframe\">\n",
       "  <thead>\n",
       "    <tr style=\"text-align: right;\">\n",
       "      <th></th>\n",
       "      <th>listing_id</th>\n",
       "      <th>id</th>\n",
       "      <th>date</th>\n",
       "      <th>reviewer_id</th>\n",
       "      <th>reviewer_name</th>\n",
       "      <th>comments</th>\n",
       "      <th>month</th>\n",
       "      <th>comment_cleaned</th>\n",
       "    </tr>\n",
       "  </thead>\n",
       "  <tbody>\n",
       "    <tr>\n",
       "      <th>36033</th>\n",
       "      <td>8923817</td>\n",
       "      <td>64237120</td>\n",
       "      <td>2016-03-01</td>\n",
       "      <td>2300637</td>\n",
       "      <td>Robert</td>\n",
       "      <td>I could not imagine staying in a more beautifu...</td>\n",
       "      <td>March</td>\n",
       "      <td>[(staying, v), (jil, a), (walls, n), (makes, v...</td>\n",
       "    </tr>\n",
       "    <tr>\n",
       "      <th>38754</th>\n",
       "      <td>2295530</td>\n",
       "      <td>47476446</td>\n",
       "      <td>2015-09-19</td>\n",
       "      <td>39134213</td>\n",
       "      <td>Rik</td>\n",
       "      <td>Alicia and Kostas were fabulous hosts. They co...</td>\n",
       "      <td>September</td>\n",
       "      <td>[(alicia, n), (kostas, n), (hosts, n), (couldn...</td>\n",
       "    </tr>\n",
       "    <tr>\n",
       "      <th>62950</th>\n",
       "      <td>1472520</td>\n",
       "      <td>19030591</td>\n",
       "      <td>2014-09-05</td>\n",
       "      <td>15858786</td>\n",
       "      <td>Janina</td>\n",
       "      <td>La habitación era exactamente como se describí...</td>\n",
       "      <td>September</td>\n",
       "      <td>[(habitacin, n), (exactamente, n), (como, n), ...</td>\n",
       "    </tr>\n",
       "    <tr>\n",
       "      <th>9553</th>\n",
       "      <td>4526315</td>\n",
       "      <td>24540514</td>\n",
       "      <td>2014-12-30</td>\n",
       "      <td>4811894</td>\n",
       "      <td>Jalin</td>\n",
       "      <td>Jared was a very welcoming and attentive host....</td>\n",
       "      <td>December</td>\n",
       "      <td>[(jared, v), (located, v), (cared, v), (enjoye...</td>\n",
       "    </tr>\n",
       "    <tr>\n",
       "      <th>14382</th>\n",
       "      <td>5086521</td>\n",
       "      <td>78229235</td>\n",
       "      <td>2016-06-05</td>\n",
       "      <td>52947962</td>\n",
       "      <td>Asha</td>\n",
       "      <td>Ryan was a great host and his place is just as...</td>\n",
       "      <td>June</td>\n",
       "      <td>[(ryan, n), (cafes, n), (fens, n)]</td>\n",
       "    </tr>\n",
       "  </tbody>\n",
       "</table>\n",
       "</div>"
      ],
      "text/plain": [
       "       listing_id        id       date  reviewer_id reviewer_name  \\\n",
       "36033     8923817  64237120 2016-03-01      2300637        Robert   \n",
       "38754     2295530  47476446 2015-09-19     39134213           Rik   \n",
       "62950     1472520  19030591 2014-09-05     15858786        Janina   \n",
       "9553      4526315  24540514 2014-12-30      4811894         Jalin   \n",
       "14382     5086521  78229235 2016-06-05     52947962          Asha   \n",
       "\n",
       "                                                comments      month  \\\n",
       "36033  I could not imagine staying in a more beautifu...      March   \n",
       "38754  Alicia and Kostas were fabulous hosts. They co...  September   \n",
       "62950  La habitación era exactamente como se describí...  September   \n",
       "9553   Jared was a very welcoming and attentive host....   December   \n",
       "14382  Ryan was a great host and his place is just as...       June   \n",
       "\n",
       "                                         comment_cleaned  \n",
       "36033  [(staying, v), (jil, a), (walls, n), (makes, v...  \n",
       "38754  [(alicia, n), (kostas, n), (hosts, n), (couldn...  \n",
       "62950  [(habitacin, n), (exactamente, n), (como, n), ...  \n",
       "9553   [(jared, v), (located, v), (cared, v), (enjoye...  \n",
       "14382                 [(ryan, n), (cafes, n), (fens, n)]  "
      ]
     },
     "execution_count": 52,
     "metadata": {},
     "output_type": "execute_result"
    }
   ],
   "source": [
    "bos_rev_sample.head()"
   ]
  },
  {
   "cell_type": "code",
   "execution_count": 53,
   "id": "fc3c1782-2952-418c-8a66-51b1d0c918c1",
   "metadata": {},
   "outputs": [],
   "source": [
    "# Pre-processing text - lemmatization\n",
    "lemmatizer = WordNetLemmatizer()\n",
    "\n",
    "def lemmatize(corpus):\n",
    "    lemma = []\n",
    "    for word, pos in corpus:\n",
    "        if not pos:\n",
    "            lemma.append(word)\n",
    "        else:\n",
    "            lemma.append(lemmatizer.lemmatize(word, pos=pos))\n",
    "    return lemma"
   ]
  },
  {
   "cell_type": "code",
   "execution_count": 54,
   "id": "7c706759-3f62-4b13-8ac0-eae7222c2050",
   "metadata": {},
   "outputs": [],
   "source": [
    "bos_rev_sample['comment_lemma'] = bos_rev_sample['comment_cleaned'].apply(lemmatize).str.join(' ')"
   ]
  },
  {
   "cell_type": "code",
   "execution_count": 55,
   "id": "2ef05198-9277-43be-9bc1-48c15784da26",
   "metadata": {},
   "outputs": [
    {
     "data": {
      "text/html": [
       "<div>\n",
       "<style scoped>\n",
       "    .dataframe tbody tr th:only-of-type {\n",
       "        vertical-align: middle;\n",
       "    }\n",
       "\n",
       "    .dataframe tbody tr th {\n",
       "        vertical-align: top;\n",
       "    }\n",
       "\n",
       "    .dataframe thead th {\n",
       "        text-align: right;\n",
       "    }\n",
       "</style>\n",
       "<table border=\"1\" class=\"dataframe\">\n",
       "  <thead>\n",
       "    <tr style=\"text-align: right;\">\n",
       "      <th></th>\n",
       "      <th>listing_id</th>\n",
       "      <th>id</th>\n",
       "      <th>date</th>\n",
       "      <th>reviewer_id</th>\n",
       "      <th>reviewer_name</th>\n",
       "      <th>comments</th>\n",
       "      <th>month</th>\n",
       "      <th>comment_cleaned</th>\n",
       "      <th>comment_lemma</th>\n",
       "    </tr>\n",
       "  </thead>\n",
       "  <tbody>\n",
       "    <tr>\n",
       "      <th>36033</th>\n",
       "      <td>8923817</td>\n",
       "      <td>64237120</td>\n",
       "      <td>2016-03-01</td>\n",
       "      <td>2300637</td>\n",
       "      <td>Robert</td>\n",
       "      <td>I could not imagine staying in a more beautifu...</td>\n",
       "      <td>March</td>\n",
       "      <td>[(staying, v), (jil, a), (walls, n), (makes, v...</td>\n",
       "      <td>stay jil wall make house tree jamaica plain ce...</td>\n",
       "    </tr>\n",
       "    <tr>\n",
       "      <th>38754</th>\n",
       "      <td>2295530</td>\n",
       "      <td>47476446</td>\n",
       "      <td>2015-09-19</td>\n",
       "      <td>39134213</td>\n",
       "      <td>Rik</td>\n",
       "      <td>Alicia and Kostas were fabulous hosts. They co...</td>\n",
       "      <td>September</td>\n",
       "      <td>[(alicia, n), (kostas, n), (hosts, n), (couldn...</td>\n",
       "      <td>alicia kostas host couldnt centre restaurant a...</td>\n",
       "    </tr>\n",
       "    <tr>\n",
       "      <th>62950</th>\n",
       "      <td>1472520</td>\n",
       "      <td>19030591</td>\n",
       "      <td>2014-09-05</td>\n",
       "      <td>15858786</td>\n",
       "      <td>Janina</td>\n",
       "      <td>La habitación era exactamente como se describí...</td>\n",
       "      <td>September</td>\n",
       "      <td>[(habitacin, n), (exactamente, n), (como, n), ...</td>\n",
       "      <td>habitacin exactamente como describa casa muy a...</td>\n",
       "    </tr>\n",
       "    <tr>\n",
       "      <th>9553</th>\n",
       "      <td>4526315</td>\n",
       "      <td>24540514</td>\n",
       "      <td>2014-12-30</td>\n",
       "      <td>4811894</td>\n",
       "      <td>Jalin</td>\n",
       "      <td>Jared was a very welcoming and attentive host....</td>\n",
       "      <td>December</td>\n",
       "      <td>[(jared, v), (located, v), (cared, v), (enjoye...</td>\n",
       "      <td>jar locate care enjoy</td>\n",
       "    </tr>\n",
       "    <tr>\n",
       "      <th>14382</th>\n",
       "      <td>5086521</td>\n",
       "      <td>78229235</td>\n",
       "      <td>2016-06-05</td>\n",
       "      <td>52947962</td>\n",
       "      <td>Asha</td>\n",
       "      <td>Ryan was a great host and his place is just as...</td>\n",
       "      <td>June</td>\n",
       "      <td>[(ryan, n), (cafes, n), (fens, n)]</td>\n",
       "      <td>ryan cafe fen</td>\n",
       "    </tr>\n",
       "  </tbody>\n",
       "</table>\n",
       "</div>"
      ],
      "text/plain": [
       "       listing_id        id       date  reviewer_id reviewer_name  \\\n",
       "36033     8923817  64237120 2016-03-01      2300637        Robert   \n",
       "38754     2295530  47476446 2015-09-19     39134213           Rik   \n",
       "62950     1472520  19030591 2014-09-05     15858786        Janina   \n",
       "9553      4526315  24540514 2014-12-30      4811894         Jalin   \n",
       "14382     5086521  78229235 2016-06-05     52947962          Asha   \n",
       "\n",
       "                                                comments      month  \\\n",
       "36033  I could not imagine staying in a more beautifu...      March   \n",
       "38754  Alicia and Kostas were fabulous hosts. They co...  September   \n",
       "62950  La habitación era exactamente como se describí...  September   \n",
       "9553   Jared was a very welcoming and attentive host....   December   \n",
       "14382  Ryan was a great host and his place is just as...       June   \n",
       "\n",
       "                                         comment_cleaned  \\\n",
       "36033  [(staying, v), (jil, a), (walls, n), (makes, v...   \n",
       "38754  [(alicia, n), (kostas, n), (hosts, n), (couldn...   \n",
       "62950  [(habitacin, n), (exactamente, n), (como, n), ...   \n",
       "9553   [(jared, v), (located, v), (cared, v), (enjoye...   \n",
       "14382                 [(ryan, n), (cafes, n), (fens, n)]   \n",
       "\n",
       "                                           comment_lemma  \n",
       "36033  stay jil wall make house tree jamaica plain ce...  \n",
       "38754  alicia kostas host couldnt centre restaurant a...  \n",
       "62950  habitacin exactamente como describa casa muy a...  \n",
       "9553                               jar locate care enjoy  \n",
       "14382                                      ryan cafe fen  "
      ]
     },
     "execution_count": 55,
     "metadata": {},
     "output_type": "execute_result"
    }
   ],
   "source": [
    "bos_rev_sample.head()"
   ]
  },
  {
   "cell_type": "markdown",
   "id": "ddfd8c08-4127-494b-8221-577cd7e8ed17",
   "metadata": {},
   "source": [
    "#### Applying Sentiment Analysis"
   ]
  },
  {
   "cell_type": "markdown",
   "id": "2cba7141-61d3-40f4-9df4-aeb2ffca7e8e",
   "metadata": {},
   "source": [
    "In this analysis, the unsupervised lexical approach is used as there is no available sentiment label in the review dataset. Vader(Valence Aware Dictionary and sEntiment Reasoner) lexicon is adopted as it is specifically tunned for social media comments and views."
   ]
  },
  {
   "cell_type": "code",
   "execution_count": 56,
   "id": "23f6c4a5-227f-4fd7-b137-a17c63580226",
   "metadata": {},
   "outputs": [],
   "source": [
    "# Instantiate vader analyzer\n",
    "analyzer = SentimentIntensityAnalyzer()"
   ]
  },
  {
   "cell_type": "code",
   "execution_count": 57,
   "id": "cd82e88c-8be0-4308-b27c-89c19eb1667d",
   "metadata": {},
   "outputs": [],
   "source": [
    "# Calculating sentiment score(i.e. polarity score)\n",
    "def cal_sent_score(text):\n",
    "    sent_score = analyzer.polarity_scores(text)['compound']\n",
    "    return sent_score"
   ]
  },
  {
   "cell_type": "code",
   "execution_count": 58,
   "id": "fb43c052-3d49-400d-900d-25de1adf6a54",
   "metadata": {},
   "outputs": [],
   "source": [
    "bos_rev_sample['vader_sent_score'] = bos_rev_sample['comment_lemma'].apply(cal_sent_score)"
   ]
  },
  {
   "cell_type": "code",
   "execution_count": 59,
   "id": "14be0014-b941-4e20-8fcc-f319c8a57a38",
   "metadata": {},
   "outputs": [
    {
     "data": {
      "text/html": [
       "<div>\n",
       "<style scoped>\n",
       "    .dataframe tbody tr th:only-of-type {\n",
       "        vertical-align: middle;\n",
       "    }\n",
       "\n",
       "    .dataframe tbody tr th {\n",
       "        vertical-align: top;\n",
       "    }\n",
       "\n",
       "    .dataframe thead th {\n",
       "        text-align: right;\n",
       "    }\n",
       "</style>\n",
       "<table border=\"1\" class=\"dataframe\">\n",
       "  <thead>\n",
       "    <tr style=\"text-align: right;\">\n",
       "      <th></th>\n",
       "      <th>listing_id</th>\n",
       "      <th>id</th>\n",
       "      <th>date</th>\n",
       "      <th>reviewer_id</th>\n",
       "      <th>reviewer_name</th>\n",
       "      <th>comments</th>\n",
       "      <th>month</th>\n",
       "      <th>comment_cleaned</th>\n",
       "      <th>comment_lemma</th>\n",
       "      <th>vader_sent_score</th>\n",
       "    </tr>\n",
       "  </thead>\n",
       "  <tbody>\n",
       "    <tr>\n",
       "      <th>36033</th>\n",
       "      <td>8923817</td>\n",
       "      <td>64237120</td>\n",
       "      <td>2016-03-01</td>\n",
       "      <td>2300637</td>\n",
       "      <td>Robert</td>\n",
       "      <td>I could not imagine staying in a more beautifu...</td>\n",
       "      <td>March</td>\n",
       "      <td>[(staying, v), (jil, a), (walls, n), (makes, v...</td>\n",
       "      <td>stay jil wall make house tree jamaica plain ce...</td>\n",
       "      <td>0.2023</td>\n",
       "    </tr>\n",
       "    <tr>\n",
       "      <th>38754</th>\n",
       "      <td>2295530</td>\n",
       "      <td>47476446</td>\n",
       "      <td>2015-09-19</td>\n",
       "      <td>39134213</td>\n",
       "      <td>Rik</td>\n",
       "      <td>Alicia and Kostas were fabulous hosts. They co...</td>\n",
       "      <td>September</td>\n",
       "      <td>[(alicia, n), (kostas, n), (hosts, n), (couldn...</td>\n",
       "      <td>alicia kostas host couldnt centre restaurant a...</td>\n",
       "      <td>0.0000</td>\n",
       "    </tr>\n",
       "    <tr>\n",
       "      <th>62950</th>\n",
       "      <td>1472520</td>\n",
       "      <td>19030591</td>\n",
       "      <td>2014-09-05</td>\n",
       "      <td>15858786</td>\n",
       "      <td>Janina</td>\n",
       "      <td>La habitación era exactamente como se describí...</td>\n",
       "      <td>September</td>\n",
       "      <td>[(habitacin, n), (exactamente, n), (como, n), ...</td>\n",
       "      <td>habitacin exactamente como describa casa muy a...</td>\n",
       "      <td>0.0000</td>\n",
       "    </tr>\n",
       "    <tr>\n",
       "      <th>9553</th>\n",
       "      <td>4526315</td>\n",
       "      <td>24540514</td>\n",
       "      <td>2014-12-30</td>\n",
       "      <td>4811894</td>\n",
       "      <td>Jalin</td>\n",
       "      <td>Jared was a very welcoming and attentive host....</td>\n",
       "      <td>December</td>\n",
       "      <td>[(jared, v), (located, v), (cared, v), (enjoye...</td>\n",
       "      <td>jar locate care enjoy</td>\n",
       "      <td>0.7506</td>\n",
       "    </tr>\n",
       "    <tr>\n",
       "      <th>14382</th>\n",
       "      <td>5086521</td>\n",
       "      <td>78229235</td>\n",
       "      <td>2016-06-05</td>\n",
       "      <td>52947962</td>\n",
       "      <td>Asha</td>\n",
       "      <td>Ryan was a great host and his place is just as...</td>\n",
       "      <td>June</td>\n",
       "      <td>[(ryan, n), (cafes, n), (fens, n)]</td>\n",
       "      <td>ryan cafe fen</td>\n",
       "      <td>0.0000</td>\n",
       "    </tr>\n",
       "  </tbody>\n",
       "</table>\n",
       "</div>"
      ],
      "text/plain": [
       "       listing_id        id       date  reviewer_id reviewer_name  \\\n",
       "36033     8923817  64237120 2016-03-01      2300637        Robert   \n",
       "38754     2295530  47476446 2015-09-19     39134213           Rik   \n",
       "62950     1472520  19030591 2014-09-05     15858786        Janina   \n",
       "9553      4526315  24540514 2014-12-30      4811894         Jalin   \n",
       "14382     5086521  78229235 2016-06-05     52947962          Asha   \n",
       "\n",
       "                                                comments      month  \\\n",
       "36033  I could not imagine staying in a more beautifu...      March   \n",
       "38754  Alicia and Kostas were fabulous hosts. They co...  September   \n",
       "62950  La habitación era exactamente como se describí...  September   \n",
       "9553   Jared was a very welcoming and attentive host....   December   \n",
       "14382  Ryan was a great host and his place is just as...       June   \n",
       "\n",
       "                                         comment_cleaned  \\\n",
       "36033  [(staying, v), (jil, a), (walls, n), (makes, v...   \n",
       "38754  [(alicia, n), (kostas, n), (hosts, n), (couldn...   \n",
       "62950  [(habitacin, n), (exactamente, n), (como, n), ...   \n",
       "9553   [(jared, v), (located, v), (cared, v), (enjoye...   \n",
       "14382                 [(ryan, n), (cafes, n), (fens, n)]   \n",
       "\n",
       "                                           comment_lemma  vader_sent_score  \n",
       "36033  stay jil wall make house tree jamaica plain ce...            0.2023  \n",
       "38754  alicia kostas host couldnt centre restaurant a...            0.0000  \n",
       "62950  habitacin exactamente como describa casa muy a...            0.0000  \n",
       "9553                               jar locate care enjoy            0.7506  \n",
       "14382                                      ryan cafe fen            0.0000  "
      ]
     },
     "execution_count": 59,
     "metadata": {},
     "output_type": "execute_result"
    }
   ],
   "source": [
    "bos_rev_sample.head()"
   ]
  },
  {
   "cell_type": "code",
   "execution_count": 60,
   "id": "7ed44590-4e2c-4022-8583-ff3434f4beca",
   "metadata": {},
   "outputs": [],
   "source": [
    "# Categorise and attach sentiment label\n",
    "def sent_label(sent_score):\n",
    "    if sent_score >= 0.5:\n",
    "        return 'positive'\n",
    "    elif sent_score <= -0.5:\n",
    "        return 'negative'\n",
    "    else:\n",
    "        return 'neutral'"
   ]
  },
  {
   "cell_type": "code",
   "execution_count": 61,
   "id": "bc528246-43b9-4eb5-b112-04a65b7ec954",
   "metadata": {},
   "outputs": [],
   "source": [
    "bos_rev_sample['vader_sent_label'] = bos_rev_sample['vader_sent_score'].apply(sent_label)"
   ]
  },
  {
   "cell_type": "code",
   "execution_count": 62,
   "id": "78b7742f-2c58-4ae4-8006-35f08aae8e94",
   "metadata": {},
   "outputs": [
    {
     "data": {
      "text/html": [
       "<div>\n",
       "<style scoped>\n",
       "    .dataframe tbody tr th:only-of-type {\n",
       "        vertical-align: middle;\n",
       "    }\n",
       "\n",
       "    .dataframe tbody tr th {\n",
       "        vertical-align: top;\n",
       "    }\n",
       "\n",
       "    .dataframe thead th {\n",
       "        text-align: right;\n",
       "    }\n",
       "</style>\n",
       "<table border=\"1\" class=\"dataframe\">\n",
       "  <thead>\n",
       "    <tr style=\"text-align: right;\">\n",
       "      <th></th>\n",
       "      <th>listing_id</th>\n",
       "      <th>id</th>\n",
       "      <th>date</th>\n",
       "      <th>reviewer_id</th>\n",
       "      <th>reviewer_name</th>\n",
       "      <th>comments</th>\n",
       "      <th>month</th>\n",
       "      <th>comment_cleaned</th>\n",
       "      <th>comment_lemma</th>\n",
       "      <th>vader_sent_score</th>\n",
       "      <th>vader_sent_label</th>\n",
       "    </tr>\n",
       "  </thead>\n",
       "  <tbody>\n",
       "    <tr>\n",
       "      <th>36033</th>\n",
       "      <td>8923817</td>\n",
       "      <td>64237120</td>\n",
       "      <td>2016-03-01</td>\n",
       "      <td>2300637</td>\n",
       "      <td>Robert</td>\n",
       "      <td>I could not imagine staying in a more beautifu...</td>\n",
       "      <td>March</td>\n",
       "      <td>[(staying, v), (jil, a), (walls, n), (makes, v...</td>\n",
       "      <td>stay jil wall make house tree jamaica plain ce...</td>\n",
       "      <td>0.2023</td>\n",
       "      <td>neutral</td>\n",
       "    </tr>\n",
       "    <tr>\n",
       "      <th>38754</th>\n",
       "      <td>2295530</td>\n",
       "      <td>47476446</td>\n",
       "      <td>2015-09-19</td>\n",
       "      <td>39134213</td>\n",
       "      <td>Rik</td>\n",
       "      <td>Alicia and Kostas were fabulous hosts. They co...</td>\n",
       "      <td>September</td>\n",
       "      <td>[(alicia, n), (kostas, n), (hosts, n), (couldn...</td>\n",
       "      <td>alicia kostas host couldnt centre restaurant a...</td>\n",
       "      <td>0.0000</td>\n",
       "      <td>neutral</td>\n",
       "    </tr>\n",
       "    <tr>\n",
       "      <th>62950</th>\n",
       "      <td>1472520</td>\n",
       "      <td>19030591</td>\n",
       "      <td>2014-09-05</td>\n",
       "      <td>15858786</td>\n",
       "      <td>Janina</td>\n",
       "      <td>La habitación era exactamente como se describí...</td>\n",
       "      <td>September</td>\n",
       "      <td>[(habitacin, n), (exactamente, n), (como, n), ...</td>\n",
       "      <td>habitacin exactamente como describa casa muy a...</td>\n",
       "      <td>0.0000</td>\n",
       "      <td>neutral</td>\n",
       "    </tr>\n",
       "    <tr>\n",
       "      <th>9553</th>\n",
       "      <td>4526315</td>\n",
       "      <td>24540514</td>\n",
       "      <td>2014-12-30</td>\n",
       "      <td>4811894</td>\n",
       "      <td>Jalin</td>\n",
       "      <td>Jared was a very welcoming and attentive host....</td>\n",
       "      <td>December</td>\n",
       "      <td>[(jared, v), (located, v), (cared, v), (enjoye...</td>\n",
       "      <td>jar locate care enjoy</td>\n",
       "      <td>0.7506</td>\n",
       "      <td>positive</td>\n",
       "    </tr>\n",
       "    <tr>\n",
       "      <th>14382</th>\n",
       "      <td>5086521</td>\n",
       "      <td>78229235</td>\n",
       "      <td>2016-06-05</td>\n",
       "      <td>52947962</td>\n",
       "      <td>Asha</td>\n",
       "      <td>Ryan was a great host and his place is just as...</td>\n",
       "      <td>June</td>\n",
       "      <td>[(ryan, n), (cafes, n), (fens, n)]</td>\n",
       "      <td>ryan cafe fen</td>\n",
       "      <td>0.0000</td>\n",
       "      <td>neutral</td>\n",
       "    </tr>\n",
       "  </tbody>\n",
       "</table>\n",
       "</div>"
      ],
      "text/plain": [
       "       listing_id        id       date  reviewer_id reviewer_name  \\\n",
       "36033     8923817  64237120 2016-03-01      2300637        Robert   \n",
       "38754     2295530  47476446 2015-09-19     39134213           Rik   \n",
       "62950     1472520  19030591 2014-09-05     15858786        Janina   \n",
       "9553      4526315  24540514 2014-12-30      4811894         Jalin   \n",
       "14382     5086521  78229235 2016-06-05     52947962          Asha   \n",
       "\n",
       "                                                comments      month  \\\n",
       "36033  I could not imagine staying in a more beautifu...      March   \n",
       "38754  Alicia and Kostas were fabulous hosts. They co...  September   \n",
       "62950  La habitación era exactamente como se describí...  September   \n",
       "9553   Jared was a very welcoming and attentive host....   December   \n",
       "14382  Ryan was a great host and his place is just as...       June   \n",
       "\n",
       "                                         comment_cleaned  \\\n",
       "36033  [(staying, v), (jil, a), (walls, n), (makes, v...   \n",
       "38754  [(alicia, n), (kostas, n), (hosts, n), (couldn...   \n",
       "62950  [(habitacin, n), (exactamente, n), (como, n), ...   \n",
       "9553   [(jared, v), (located, v), (cared, v), (enjoye...   \n",
       "14382                 [(ryan, n), (cafes, n), (fens, n)]   \n",
       "\n",
       "                                           comment_lemma  vader_sent_score  \\\n",
       "36033  stay jil wall make house tree jamaica plain ce...            0.2023   \n",
       "38754  alicia kostas host couldnt centre restaurant a...            0.0000   \n",
       "62950  habitacin exactamente como describa casa muy a...            0.0000   \n",
       "9553                               jar locate care enjoy            0.7506   \n",
       "14382                                      ryan cafe fen            0.0000   \n",
       "\n",
       "      vader_sent_label  \n",
       "36033          neutral  \n",
       "38754          neutral  \n",
       "62950          neutral  \n",
       "9553          positive  \n",
       "14382          neutral  "
      ]
     },
     "execution_count": 62,
     "metadata": {},
     "output_type": "execute_result"
    }
   ],
   "source": [
    "bos_rev_sample.head()"
   ]
  },
  {
   "cell_type": "code",
   "execution_count": 63,
   "id": "113c28b2-8f08-406c-be45-d63180a118fb",
   "metadata": {},
   "outputs": [
    {
     "data": {
      "text/plain": [
       "neutral     29789\n",
       "positive     4108\n",
       "negative      214\n",
       "Name: vader_sent_label, dtype: int64"
      ]
     },
     "execution_count": 63,
     "metadata": {},
     "output_type": "execute_result"
    }
   ],
   "source": [
    "bos_rev_sample['vader_sent_label'].value_counts()"
   ]
  },
  {
   "cell_type": "code",
   "execution_count": 64,
   "id": "17916d5f-1d39-4fda-bc41-050134e31754",
   "metadata": {},
   "outputs": [
    {
     "data": {
      "image/png": "[encoded data removed]",
      "text/plain": [
       "<Figure size 432x288 with 1 Axes>"
      ]
     },
     "metadata": {
      "needs_background": "light"
     },
     "output_type": "display_data"
    }
   ],
   "source": [
    "# Visualising sentiment landscape\n",
    "(bos_rev_sample['vader_sent_label'].value_counts()/bos_rev_sample.shape[0]).plot(kind = 'bar')\n",
    "\n",
    "plt.title('Airbnb Customer Comment Sentiment (proportion)')\n",
    "plt.xlabel('Sentiment Category')\n",
    "plt.ylabel('Proportion')\n",
    "\n",
    "plt.show()"
   ]
  },
  {
   "cell_type": "code",
   "execution_count": 65,
   "id": "f6d57953-ac33-43d7-bcd0-bb65cb33178a",
   "metadata": {},
   "outputs": [
    {
     "data": {
      "text/html": [
       "<div>\n",
       "<style scoped>\n",
       "    .dataframe tbody tr th:only-of-type {\n",
       "        vertical-align: middle;\n",
       "    }\n",
       "\n",
       "    .dataframe tbody tr th {\n",
       "        vertical-align: top;\n",
       "    }\n",
       "\n",
       "    .dataframe thead th {\n",
       "        text-align: right;\n",
       "    }\n",
       "</style>\n",
       "<table border=\"1\" class=\"dataframe\">\n",
       "  <thead>\n",
       "    <tr style=\"text-align: right;\">\n",
       "      <th></th>\n",
       "      <th>index</th>\n",
       "      <th>vader_sent_label</th>\n",
       "    </tr>\n",
       "  </thead>\n",
       "  <tbody>\n",
       "    <tr>\n",
       "      <th>0</th>\n",
       "      <td>neutral</td>\n",
       "      <td>0.873296</td>\n",
       "    </tr>\n",
       "    <tr>\n",
       "      <th>1</th>\n",
       "      <td>positive</td>\n",
       "      <td>0.120430</td>\n",
       "    </tr>\n",
       "    <tr>\n",
       "      <th>2</th>\n",
       "      <td>negative</td>\n",
       "      <td>0.006274</td>\n",
       "    </tr>\n",
       "  </tbody>\n",
       "</table>\n",
       "</div>"
      ],
      "text/plain": [
       "      index  vader_sent_label\n",
       "0   neutral          0.873296\n",
       "1  positive          0.120430\n",
       "2  negative          0.006274"
      ]
     },
     "execution_count": 65,
     "metadata": {},
     "output_type": "execute_result"
    }
   ],
   "source": [
    "# Turning count into proportion\n",
    "df_val_s= pd.DataFrame(bos_rev_sample['vader_sent_label'].value_counts()/bos_rev_sample.shape[0]).reset_index()\n",
    "df_val_s"
   ]
  },
  {
   "cell_type": "code",
   "execution_count": 66,
   "id": "df3b1999-d70e-45fd-807c-569317524b81",
   "metadata": {},
   "outputs": [
    {
     "data": {
      "image/png": "[encoded data removed]",
      "text/plain": [
       "<Figure size 540x360 with 1 Axes>"
      ]
     },
     "metadata": {
      "needs_background": "light"
     },
     "output_type": "display_data"
    }
   ],
   "source": [
    "fig = sns.catplot(x = 'index', y = 'vader_sent_label', kind = 'bar', palette='coolwarm', height = 5, aspect = 1.5, data = df_val_s)\n",
    "\n",
    "# Add percentage on top of each bar\n",
    "for i in fig.ax.patches:\n",
    "    perc = str((i.get_height()*100).round(2)) + '%'\n",
    "    perc_x = i.get_x() \n",
    "    perc_y = i.get_height()\n",
    "    fig.ax.text(perc_x, perc_y, perc)\n",
    "\n",
    "plt.title('Airbnb Customer Comment Sentiment (proportion)')\n",
    "plt.xlabel('Category')\n",
    "plt.ylabel('Proportion')\n",
    "\n",
    "plt.show()"
   ]
  },
  {
   "cell_type": "markdown",
   "id": "475da562-6a37-4035-bcd4-09d7f6e8e58c",
   "metadata": {},
   "source": [
    "#### Comment"
   ]
  },
  {
   "cell_type": "markdown",
   "id": "ab8d182d-9517-40b6-ae74-f6872db67e0f",
   "metadata": {},
   "source": [
    "##### Explaining methodology"
   ]
  },
  {
   "cell_type": "markdown",
   "id": "b0dddb79-4de0-4476-82ec-8d2948b6b744",
   "metadata": {},
   "source": [
    "To answer business question 3, sentiment analysis is performed on the comments column in the review dataset. For any text analysis, the first step is text pre-processing. Letters are transformed to lower cases, punctuation and special characters removed. Texts are not tockenized into words with pos tags attached for each word. Pos tag helps identifying if a word is noun, verb, adjective etc. Words that are not English and common English stopwords are then removed. The last step of pre-processing is lemmatisation. \n",
    "\n",
    "Now, we have a clean text, sentiment analysis can be applied. As our review dataset does not contain a sentiment label column, we used an unsupervised lexical approach. Vader(Valence Aware Dictionary and sEntiment Reasoner) lexicon is adopted as it is specifically tunned for social media comments and views. After sentiment analysis is performed, we obtained a column of sentiment scores. Sentimen labels are then created based on the score. \n",
    "\n",
    "We are ready to answer our question."
   ]
  },
  {
   "cell_type": "markdown",
   "id": "0336ae62-5934-4778-a8f9-807d44172cc0",
   "metadata": {},
   "source": [
    "##### Explaining results"
   ]
  },
  {
   "cell_type": "markdown",
   "id": "569a34b9-3f87-4ff5-841f-e2616d93e8a0",
   "metadata": {},
   "source": [
    "From the bar plot on comment sentiment, we can deduce that the majority (over 87%) of the comments are actually neutral. Only a tiny percentage of comments are classified to have negative sentiment. However, we can also see that gaining a positive sentiment is not easy for hosts as only roughly around 12% of the customer comments are positive. This echos with some voices from the hosts that they feel like maintaining and improving relationship with customer is also part of their job. They need to be proactive, explaining the rules of Airbnb and help customers to understand how the rating and superhost scheme works."
   ]
  },
  {
   "cell_type": "markdown",
   "id": "5ef1f3a9-cc20-40ec-892f-3bc991a76676",
   "metadata": {},
   "source": [
    "## Conclusion"
   ]
  },
  {
   "cell_type": "markdown",
   "id": "8b81423a-080d-458b-a655-162bdac9930c",
   "metadata": {},
   "source": [
    "To conclude, in this project, we analysed data in Boston Airbnb listing and review dataset. From this project, we understand that most host tend to actively responding their customers, typically within an hour. The three top factors that determines the review rating score are whether a host is a superhost, whether the host identity has been verified and if the cancellation policy is super strict. The vast majority of customer comments is neutral and only a really tiny amount of comments are negative, suggesting a good commenting environment.\n",
    "\n",
    "Thinking about the future, the linear model could be improved in various ways. As for the sentiment analysis, the sentimen score and label computed could be further used in regression analysis to understand what elemnts could potentially lead to a positive or negative comment. This could help hosts to understand better how they could gain more positive comments."
   ]
  },
  {
   "cell_type": "code",
   "execution_count": null,
   "id": "caefb853-ebe9-4a78-adb3-b7bef323d877",
   "metadata": {},
   "outputs": [],
   "source": []
  }
 ],
 "metadata": {
  "kernelspec": {
   "display_name": "Python 3 (ipykernel)",
   "language": "python",
   "name": "python3"
  },
  "language_info": {
   "codemirror_mode": {
    "name": "ipython",
    "version": 3
   },
   "file_extension": ".py",
   "mimetype": "text/x-python",
   "name": "python",
   "nbconvert_exporter": "python",
   "pygments_lexer": "ipython3",
   "version": "3.9.12"
  }
 },
 "nbformat": 4,
 "nbformat_minor": 5
}
